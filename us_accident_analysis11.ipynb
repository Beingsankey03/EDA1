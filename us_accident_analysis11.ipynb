{
  "cells": [
    {
      "cell_type": "markdown",
      "metadata": {
        "id": "HTLqqX4qzVuu"
      },
      "source": [
        "# us-accident-analysis\n",
        "\n",
        "Use the \"Run\" button to execute the code."
      ]
    },
    {
      "cell_type": "code",
      "source": [
        "pip install opendatasets --upgrade --quiet"
      ],
      "metadata": {
        "id": "ulqHDwzcz4sf"
      },
      "execution_count": null,
      "outputs": []
    },
    {
      "cell_type": "code",
      "source": [
        "import opendatasets as od\n",
        "\n",
        "download_url = 'https://www.kaggle.com/sobhanmoosavi/us-accidents'\n",
        "\n",
        "od.download(download_url)"
      ],
      "metadata": {
        "colab": {
          "base_uri": "https://localhost:8080/"
        },
        "id": "DTTGIWKi0cpi",
        "outputId": "d4aa6349-881d-4165-ee58-be23a6d27cea"
      },
      "execution_count": null,
      "outputs": [
        {
          "output_type": "stream",
          "name": "stdout",
          "text": [
            "Please provide your Kaggle credentials to download this dataset. Learn more: http://bit.ly/kaggle-creds\n",
            "Your Kaggle username: sanketnadargi\n",
            "Your Kaggle Key: ··········\n",
            "Downloading us-accidents.zip to ./us-accidents\n"
          ]
        },
        {
          "output_type": "stream",
          "name": "stderr",
          "text": [
            "100%|██████████| 269M/269M [00:04<00:00, 67.3MB/s]\n"
          ]
        },
        {
          "output_type": "stream",
          "name": "stdout",
          "text": [
            "\n"
          ]
        }
      ]
    },
    {
      "cell_type": "markdown",
      "source": [
        "kaggle credentials\n"
      ],
      "metadata": {
        "id": "dciRY8ma0oMJ"
      }
    },
    {
      "cell_type": "code",
      "source": [
        "data_filename = './us-accidents/US_Accidents_Dec20.csv'"
      ],
      "metadata": {
        "id": "0TYo3kzl0kWM"
      },
      "execution_count": null,
      "outputs": []
    },
    {
      "cell_type": "code",
      "source": [
        "import pandas as pd"
      ],
      "metadata": {
        "id": "oqxZF8ki1PgU"
      },
      "execution_count": null,
      "outputs": []
    },
    {
      "cell_type": "code",
      "source": [
        "df = pd.read_csv(data_filename)"
      ],
      "metadata": {
        "id": "8eUDcPmv1R8H"
      },
      "execution_count": null,
      "outputs": []
    },
    {
      "cell_type": "code",
      "source": [
        "df\n"
      ],
      "metadata": {
        "colab": {
          "base_uri": "https://localhost:8080/",
          "height": 939
        },
        "id": "bQ-hh-T_1VIj",
        "outputId": "c2887c77-e809-41f4-a1ce-5d5ad52f68eb"
      },
      "execution_count": null,
      "outputs": [
        {
          "output_type": "execute_result",
          "data": {
            "text/plain": [
              "                ID  Severity           Start_Time             End_Time  \\\n",
              "0              A-1         3  2016-02-08 00:37:08  2016-02-08 06:37:08   \n",
              "1              A-2         2  2016-02-08 05:56:20  2016-02-08 11:56:20   \n",
              "2              A-3         2  2016-02-08 06:15:39  2016-02-08 12:15:39   \n",
              "3              A-4         2  2016-02-08 06:51:45  2016-02-08 12:51:45   \n",
              "4              A-5         3  2016-02-08 07:53:43  2016-02-08 13:53:43   \n",
              "...            ...       ...                  ...                  ...   \n",
              "2845337  A-2845338         2  2019-08-23 18:03:25  2019-08-23 18:32:01   \n",
              "2845338  A-2845339         2  2019-08-23 19:11:30  2019-08-23 19:38:23   \n",
              "2845339  A-2845340         2  2019-08-23 19:00:21  2019-08-23 19:28:49   \n",
              "2845340  A-2845341         2  2019-08-23 19:00:21  2019-08-23 19:29:42   \n",
              "2845341  A-2845342         2  2019-08-23 18:52:06  2019-08-23 19:21:31   \n",
              "\n",
              "         Start_Lat   Start_Lng    End_Lat     End_Lng  Distance(mi)  \\\n",
              "0        40.108910  -83.092860  40.112060  -83.031870         3.230   \n",
              "1        39.865420  -84.062800  39.865010  -84.048730         0.747   \n",
              "2        39.102660  -84.524680  39.102090  -84.523960         0.055   \n",
              "3        41.062130  -81.537840  41.062170  -81.535470         0.123   \n",
              "4        39.172393  -84.492792  39.170476  -84.501798         0.500   \n",
              "...            ...         ...        ...         ...           ...   \n",
              "2845337  34.002480 -117.379360  33.998880 -117.370940         0.543   \n",
              "2845338  32.766960 -117.148060  32.765550 -117.153630         0.338   \n",
              "2845339  33.775450 -117.847790  33.777400 -117.857270         0.561   \n",
              "2845340  33.992460 -118.403020  33.983110 -118.395650         0.772   \n",
              "2845341  34.133930 -117.230920  34.137360 -117.239340         0.537   \n",
              "\n",
              "                                               Description  ...  Roundabout  \\\n",
              "0        Between Sawmill Rd/Exit 20 and OH-315/Olentang...  ...       False   \n",
              "1                       At OH-4/OH-235/Exit 41 - Accident.  ...       False   \n",
              "2                         At I-71/US-50/Exit 1 - Accident.  ...       False   \n",
              "3                          At Dart Ave/Exit 21 - Accident.  ...       False   \n",
              "4                       At Mitchell Ave/Exit 6 - Accident.  ...       False   \n",
              "...                                                    ...  ...         ...   \n",
              "2845337                           At Market St - Accident.  ...       False   \n",
              "2845338    At Camino Del Rio/Mission Center Rd - Accident.  ...       False   \n",
              "2845339  At Glassell St/Grand Ave - Accident. in the ri...  ...       False   \n",
              "2845340     At CA-90/Marina Fwy/Jefferson Blvd - Accident.  ...       False   \n",
              "2845341              At Highland Ave/Arden Ave - Accident.  ...       False   \n",
              "\n",
              "        Station   Stop Traffic_Calming Traffic_Signal Turning_Loop  \\\n",
              "0         False  False           False          False        False   \n",
              "1         False  False           False          False        False   \n",
              "2         False  False           False          False        False   \n",
              "3         False  False           False          False        False   \n",
              "4         False  False           False          False        False   \n",
              "...         ...    ...             ...            ...          ...   \n",
              "2845337   False  False           False          False        False   \n",
              "2845338   False  False           False          False        False   \n",
              "2845339   False  False           False          False        False   \n",
              "2845340   False  False           False          False        False   \n",
              "2845341   False  False           False          False        False   \n",
              "\n",
              "        Sunrise_Sunset Civil_Twilight Nautical_Twilight Astronomical_Twilight  \n",
              "0                Night          Night             Night                 Night  \n",
              "1                Night          Night             Night                 Night  \n",
              "2                Night          Night             Night                   Day  \n",
              "3                Night          Night               Day                   Day  \n",
              "4                  Day            Day               Day                   Day  \n",
              "...                ...            ...               ...                   ...  \n",
              "2845337            Day            Day               Day                   Day  \n",
              "2845338            Day            Day               Day                   Day  \n",
              "2845339            Day            Day               Day                   Day  \n",
              "2845340            Day            Day               Day                   Day  \n",
              "2845341            Day            Day               Day                   Day  \n",
              "\n",
              "[2845342 rows x 47 columns]"
            ],
            "text/html": [
              "\n",
              "  <div id=\"df-8d2a34d4-2594-4816-94d8-c62d4895c8f3\">\n",
              "    <div class=\"colab-df-container\">\n",
              "      <div>\n",
              "<style scoped>\n",
              "    .dataframe tbody tr th:only-of-type {\n",
              "        vertical-align: middle;\n",
              "    }\n",
              "\n",
              "    .dataframe tbody tr th {\n",
              "        vertical-align: top;\n",
              "    }\n",
              "\n",
              "    .dataframe thead th {\n",
              "        text-align: right;\n",
              "    }\n",
              "</style>\n",
              "<table border=\"1\" class=\"dataframe\">\n",
              "  <thead>\n",
              "    <tr style=\"text-align: right;\">\n",
              "      <th></th>\n",
              "      <th>ID</th>\n",
              "      <th>Severity</th>\n",
              "      <th>Start_Time</th>\n",
              "      <th>End_Time</th>\n",
              "      <th>Start_Lat</th>\n",
              "      <th>Start_Lng</th>\n",
              "      <th>End_Lat</th>\n",
              "      <th>End_Lng</th>\n",
              "      <th>Distance(mi)</th>\n",
              "      <th>Description</th>\n",
              "      <th>...</th>\n",
              "      <th>Roundabout</th>\n",
              "      <th>Station</th>\n",
              "      <th>Stop</th>\n",
              "      <th>Traffic_Calming</th>\n",
              "      <th>Traffic_Signal</th>\n",
              "      <th>Turning_Loop</th>\n",
              "      <th>Sunrise_Sunset</th>\n",
              "      <th>Civil_Twilight</th>\n",
              "      <th>Nautical_Twilight</th>\n",
              "      <th>Astronomical_Twilight</th>\n",
              "    </tr>\n",
              "  </thead>\n",
              "  <tbody>\n",
              "    <tr>\n",
              "      <th>0</th>\n",
              "      <td>A-1</td>\n",
              "      <td>3</td>\n",
              "      <td>2016-02-08 00:37:08</td>\n",
              "      <td>2016-02-08 06:37:08</td>\n",
              "      <td>40.108910</td>\n",
              "      <td>-83.092860</td>\n",
              "      <td>40.112060</td>\n",
              "      <td>-83.031870</td>\n",
              "      <td>3.230</td>\n",
              "      <td>Between Sawmill Rd/Exit 20 and OH-315/Olentang...</td>\n",
              "      <td>...</td>\n",
              "      <td>False</td>\n",
              "      <td>False</td>\n",
              "      <td>False</td>\n",
              "      <td>False</td>\n",
              "      <td>False</td>\n",
              "      <td>False</td>\n",
              "      <td>Night</td>\n",
              "      <td>Night</td>\n",
              "      <td>Night</td>\n",
              "      <td>Night</td>\n",
              "    </tr>\n",
              "    <tr>\n",
              "      <th>1</th>\n",
              "      <td>A-2</td>\n",
              "      <td>2</td>\n",
              "      <td>2016-02-08 05:56:20</td>\n",
              "      <td>2016-02-08 11:56:20</td>\n",
              "      <td>39.865420</td>\n",
              "      <td>-84.062800</td>\n",
              "      <td>39.865010</td>\n",
              "      <td>-84.048730</td>\n",
              "      <td>0.747</td>\n",
              "      <td>At OH-4/OH-235/Exit 41 - Accident.</td>\n",
              "      <td>...</td>\n",
              "      <td>False</td>\n",
              "      <td>False</td>\n",
              "      <td>False</td>\n",
              "      <td>False</td>\n",
              "      <td>False</td>\n",
              "      <td>False</td>\n",
              "      <td>Night</td>\n",
              "      <td>Night</td>\n",
              "      <td>Night</td>\n",
              "      <td>Night</td>\n",
              "    </tr>\n",
              "    <tr>\n",
              "      <th>2</th>\n",
              "      <td>A-3</td>\n",
              "      <td>2</td>\n",
              "      <td>2016-02-08 06:15:39</td>\n",
              "      <td>2016-02-08 12:15:39</td>\n",
              "      <td>39.102660</td>\n",
              "      <td>-84.524680</td>\n",
              "      <td>39.102090</td>\n",
              "      <td>-84.523960</td>\n",
              "      <td>0.055</td>\n",
              "      <td>At I-71/US-50/Exit 1 - Accident.</td>\n",
              "      <td>...</td>\n",
              "      <td>False</td>\n",
              "      <td>False</td>\n",
              "      <td>False</td>\n",
              "      <td>False</td>\n",
              "      <td>False</td>\n",
              "      <td>False</td>\n",
              "      <td>Night</td>\n",
              "      <td>Night</td>\n",
              "      <td>Night</td>\n",
              "      <td>Day</td>\n",
              "    </tr>\n",
              "    <tr>\n",
              "      <th>3</th>\n",
              "      <td>A-4</td>\n",
              "      <td>2</td>\n",
              "      <td>2016-02-08 06:51:45</td>\n",
              "      <td>2016-02-08 12:51:45</td>\n",
              "      <td>41.062130</td>\n",
              "      <td>-81.537840</td>\n",
              "      <td>41.062170</td>\n",
              "      <td>-81.535470</td>\n",
              "      <td>0.123</td>\n",
              "      <td>At Dart Ave/Exit 21 - Accident.</td>\n",
              "      <td>...</td>\n",
              "      <td>False</td>\n",
              "      <td>False</td>\n",
              "      <td>False</td>\n",
              "      <td>False</td>\n",
              "      <td>False</td>\n",
              "      <td>False</td>\n",
              "      <td>Night</td>\n",
              "      <td>Night</td>\n",
              "      <td>Day</td>\n",
              "      <td>Day</td>\n",
              "    </tr>\n",
              "    <tr>\n",
              "      <th>4</th>\n",
              "      <td>A-5</td>\n",
              "      <td>3</td>\n",
              "      <td>2016-02-08 07:53:43</td>\n",
              "      <td>2016-02-08 13:53:43</td>\n",
              "      <td>39.172393</td>\n",
              "      <td>-84.492792</td>\n",
              "      <td>39.170476</td>\n",
              "      <td>-84.501798</td>\n",
              "      <td>0.500</td>\n",
              "      <td>At Mitchell Ave/Exit 6 - Accident.</td>\n",
              "      <td>...</td>\n",
              "      <td>False</td>\n",
              "      <td>False</td>\n",
              "      <td>False</td>\n",
              "      <td>False</td>\n",
              "      <td>False</td>\n",
              "      <td>False</td>\n",
              "      <td>Day</td>\n",
              "      <td>Day</td>\n",
              "      <td>Day</td>\n",
              "      <td>Day</td>\n",
              "    </tr>\n",
              "    <tr>\n",
              "      <th>...</th>\n",
              "      <td>...</td>\n",
              "      <td>...</td>\n",
              "      <td>...</td>\n",
              "      <td>...</td>\n",
              "      <td>...</td>\n",
              "      <td>...</td>\n",
              "      <td>...</td>\n",
              "      <td>...</td>\n",
              "      <td>...</td>\n",
              "      <td>...</td>\n",
              "      <td>...</td>\n",
              "      <td>...</td>\n",
              "      <td>...</td>\n",
              "      <td>...</td>\n",
              "      <td>...</td>\n",
              "      <td>...</td>\n",
              "      <td>...</td>\n",
              "      <td>...</td>\n",
              "      <td>...</td>\n",
              "      <td>...</td>\n",
              "      <td>...</td>\n",
              "    </tr>\n",
              "    <tr>\n",
              "      <th>2845337</th>\n",
              "      <td>A-2845338</td>\n",
              "      <td>2</td>\n",
              "      <td>2019-08-23 18:03:25</td>\n",
              "      <td>2019-08-23 18:32:01</td>\n",
              "      <td>34.002480</td>\n",
              "      <td>-117.379360</td>\n",
              "      <td>33.998880</td>\n",
              "      <td>-117.370940</td>\n",
              "      <td>0.543</td>\n",
              "      <td>At Market St - Accident.</td>\n",
              "      <td>...</td>\n",
              "      <td>False</td>\n",
              "      <td>False</td>\n",
              "      <td>False</td>\n",
              "      <td>False</td>\n",
              "      <td>False</td>\n",
              "      <td>False</td>\n",
              "      <td>Day</td>\n",
              "      <td>Day</td>\n",
              "      <td>Day</td>\n",
              "      <td>Day</td>\n",
              "    </tr>\n",
              "    <tr>\n",
              "      <th>2845338</th>\n",
              "      <td>A-2845339</td>\n",
              "      <td>2</td>\n",
              "      <td>2019-08-23 19:11:30</td>\n",
              "      <td>2019-08-23 19:38:23</td>\n",
              "      <td>32.766960</td>\n",
              "      <td>-117.148060</td>\n",
              "      <td>32.765550</td>\n",
              "      <td>-117.153630</td>\n",
              "      <td>0.338</td>\n",
              "      <td>At Camino Del Rio/Mission Center Rd - Accident.</td>\n",
              "      <td>...</td>\n",
              "      <td>False</td>\n",
              "      <td>False</td>\n",
              "      <td>False</td>\n",
              "      <td>False</td>\n",
              "      <td>False</td>\n",
              "      <td>False</td>\n",
              "      <td>Day</td>\n",
              "      <td>Day</td>\n",
              "      <td>Day</td>\n",
              "      <td>Day</td>\n",
              "    </tr>\n",
              "    <tr>\n",
              "      <th>2845339</th>\n",
              "      <td>A-2845340</td>\n",
              "      <td>2</td>\n",
              "      <td>2019-08-23 19:00:21</td>\n",
              "      <td>2019-08-23 19:28:49</td>\n",
              "      <td>33.775450</td>\n",
              "      <td>-117.847790</td>\n",
              "      <td>33.777400</td>\n",
              "      <td>-117.857270</td>\n",
              "      <td>0.561</td>\n",
              "      <td>At Glassell St/Grand Ave - Accident. in the ri...</td>\n",
              "      <td>...</td>\n",
              "      <td>False</td>\n",
              "      <td>False</td>\n",
              "      <td>False</td>\n",
              "      <td>False</td>\n",
              "      <td>False</td>\n",
              "      <td>False</td>\n",
              "      <td>Day</td>\n",
              "      <td>Day</td>\n",
              "      <td>Day</td>\n",
              "      <td>Day</td>\n",
              "    </tr>\n",
              "    <tr>\n",
              "      <th>2845340</th>\n",
              "      <td>A-2845341</td>\n",
              "      <td>2</td>\n",
              "      <td>2019-08-23 19:00:21</td>\n",
              "      <td>2019-08-23 19:29:42</td>\n",
              "      <td>33.992460</td>\n",
              "      <td>-118.403020</td>\n",
              "      <td>33.983110</td>\n",
              "      <td>-118.395650</td>\n",
              "      <td>0.772</td>\n",
              "      <td>At CA-90/Marina Fwy/Jefferson Blvd - Accident.</td>\n",
              "      <td>...</td>\n",
              "      <td>False</td>\n",
              "      <td>False</td>\n",
              "      <td>False</td>\n",
              "      <td>False</td>\n",
              "      <td>False</td>\n",
              "      <td>False</td>\n",
              "      <td>Day</td>\n",
              "      <td>Day</td>\n",
              "      <td>Day</td>\n",
              "      <td>Day</td>\n",
              "    </tr>\n",
              "    <tr>\n",
              "      <th>2845341</th>\n",
              "      <td>A-2845342</td>\n",
              "      <td>2</td>\n",
              "      <td>2019-08-23 18:52:06</td>\n",
              "      <td>2019-08-23 19:21:31</td>\n",
              "      <td>34.133930</td>\n",
              "      <td>-117.230920</td>\n",
              "      <td>34.137360</td>\n",
              "      <td>-117.239340</td>\n",
              "      <td>0.537</td>\n",
              "      <td>At Highland Ave/Arden Ave - Accident.</td>\n",
              "      <td>...</td>\n",
              "      <td>False</td>\n",
              "      <td>False</td>\n",
              "      <td>False</td>\n",
              "      <td>False</td>\n",
              "      <td>False</td>\n",
              "      <td>False</td>\n",
              "      <td>Day</td>\n",
              "      <td>Day</td>\n",
              "      <td>Day</td>\n",
              "      <td>Day</td>\n",
              "    </tr>\n",
              "  </tbody>\n",
              "</table>\n",
              "<p>2845342 rows × 47 columns</p>\n",
              "</div>\n",
              "      <button class=\"colab-df-convert\" onclick=\"convertToInteractive('df-8d2a34d4-2594-4816-94d8-c62d4895c8f3')\"\n",
              "              title=\"Convert this dataframe to an interactive table.\"\n",
              "              style=\"display:none;\">\n",
              "        \n",
              "  <svg xmlns=\"http://www.w3.org/2000/svg\" height=\"24px\"viewBox=\"0 0 24 24\"\n",
              "       width=\"24px\">\n",
              "    <path d=\"M0 0h24v24H0V0z\" fill=\"none\"/>\n",
              "    <path d=\"M18.56 5.44l.94 2.06.94-2.06 2.06-.94-2.06-.94-.94-2.06-.94 2.06-2.06.94zm-11 1L8.5 8.5l.94-2.06 2.06-.94-2.06-.94L8.5 2.5l-.94 2.06-2.06.94zm10 10l.94 2.06.94-2.06 2.06-.94-2.06-.94-.94-2.06-.94 2.06-2.06.94z\"/><path d=\"M17.41 7.96l-1.37-1.37c-.4-.4-.92-.59-1.43-.59-.52 0-1.04.2-1.43.59L10.3 9.45l-7.72 7.72c-.78.78-.78 2.05 0 2.83L4 21.41c.39.39.9.59 1.41.59.51 0 1.02-.2 1.41-.59l7.78-7.78 2.81-2.81c.8-.78.8-2.07 0-2.86zM5.41 20L4 18.59l7.72-7.72 1.47 1.35L5.41 20z\"/>\n",
              "  </svg>\n",
              "      </button>\n",
              "      \n",
              "  <style>\n",
              "    .colab-df-container {\n",
              "      display:flex;\n",
              "      flex-wrap:wrap;\n",
              "      gap: 12px;\n",
              "    }\n",
              "\n",
              "    .colab-df-convert {\n",
              "      background-color: #E8F0FE;\n",
              "      border: none;\n",
              "      border-radius: 50%;\n",
              "      cursor: pointer;\n",
              "      display: none;\n",
              "      fill: #1967D2;\n",
              "      height: 32px;\n",
              "      padding: 0 0 0 0;\n",
              "      width: 32px;\n",
              "    }\n",
              "\n",
              "    .colab-df-convert:hover {\n",
              "      background-color: #E2EBFA;\n",
              "      box-shadow: 0px 1px 2px rgba(60, 64, 67, 0.3), 0px 1px 3px 1px rgba(60, 64, 67, 0.15);\n",
              "      fill: #174EA6;\n",
              "    }\n",
              "\n",
              "    [theme=dark] .colab-df-convert {\n",
              "      background-color: #3B4455;\n",
              "      fill: #D2E3FC;\n",
              "    }\n",
              "\n",
              "    [theme=dark] .colab-df-convert:hover {\n",
              "      background-color: #434B5C;\n",
              "      box-shadow: 0px 1px 3px 1px rgba(0, 0, 0, 0.15);\n",
              "      filter: drop-shadow(0px 1px 2px rgba(0, 0, 0, 0.3));\n",
              "      fill: #FFFFFF;\n",
              "    }\n",
              "  </style>\n",
              "\n",
              "      <script>\n",
              "        const buttonEl =\n",
              "          document.querySelector('#df-8d2a34d4-2594-4816-94d8-c62d4895c8f3 button.colab-df-convert');\n",
              "        buttonEl.style.display =\n",
              "          google.colab.kernel.accessAllowed ? 'block' : 'none';\n",
              "\n",
              "        async function convertToInteractive(key) {\n",
              "          const element = document.querySelector('#df-8d2a34d4-2594-4816-94d8-c62d4895c8f3');\n",
              "          const dataTable =\n",
              "            await google.colab.kernel.invokeFunction('convertToInteractive',\n",
              "                                                     [key], {});\n",
              "          if (!dataTable) return;\n",
              "\n",
              "          const docLinkHtml = 'Like what you see? Visit the ' +\n",
              "            '<a target=\"_blank\" href=https://colab.research.google.com/notebooks/data_table.ipynb>data table notebook</a>'\n",
              "            + ' to learn more about interactive tables.';\n",
              "          element.innerHTML = '';\n",
              "          dataTable['output_type'] = 'display_data';\n",
              "          await google.colab.output.renderOutput(dataTable, element);\n",
              "          const docLink = document.createElement('div');\n",
              "          docLink.innerHTML = docLinkHtml;\n",
              "          element.appendChild(docLink);\n",
              "        }\n",
              "      </script>\n",
              "    </div>\n",
              "  </div>\n",
              "  "
            ]
          },
          "metadata": {},
          "execution_count": 8
        }
      ]
    },
    {
      "cell_type": "code",
      "source": [
        "df.info()"
      ],
      "metadata": {
        "colab": {
          "base_uri": "https://localhost:8080/"
        },
        "id": "5vcFtWp31rXA",
        "outputId": "4afc0979-86ce-44c0-e964-156a624805b4"
      },
      "execution_count": null,
      "outputs": [
        {
          "output_type": "stream",
          "name": "stdout",
          "text": [
            "<class 'pandas.core.frame.DataFrame'>\n",
            "RangeIndex: 2845342 entries, 0 to 2845341\n",
            "Data columns (total 47 columns):\n",
            " #   Column                 Dtype  \n",
            "---  ------                 -----  \n",
            " 0   ID                     object \n",
            " 1   Severity               int64  \n",
            " 2   Start_Time             object \n",
            " 3   End_Time               object \n",
            " 4   Start_Lat              float64\n",
            " 5   Start_Lng              float64\n",
            " 6   End_Lat                float64\n",
            " 7   End_Lng                float64\n",
            " 8   Distance(mi)           float64\n",
            " 9   Description            object \n",
            " 10  Number                 float64\n",
            " 11  Street                 object \n",
            " 12  Side                   object \n",
            " 13  City                   object \n",
            " 14  County                 object \n",
            " 15  State                  object \n",
            " 16  Zipcode                object \n",
            " 17  Country                object \n",
            " 18  Timezone               object \n",
            " 19  Airport_Code           object \n",
            " 20  Weather_Timestamp      object \n",
            " 21  Temperature(F)         float64\n",
            " 22  Wind_Chill(F)          float64\n",
            " 23  Humidity(%)            float64\n",
            " 24  Pressure(in)           float64\n",
            " 25  Visibility(mi)         float64\n",
            " 26  Wind_Direction         object \n",
            " 27  Wind_Speed(mph)        float64\n",
            " 28  Precipitation(in)      float64\n",
            " 29  Weather_Condition      object \n",
            " 30  Amenity                bool   \n",
            " 31  Bump                   bool   \n",
            " 32  Crossing               bool   \n",
            " 33  Give_Way               bool   \n",
            " 34  Junction               bool   \n",
            " 35  No_Exit                bool   \n",
            " 36  Railway                bool   \n",
            " 37  Roundabout             bool   \n",
            " 38  Station                bool   \n",
            " 39  Stop                   bool   \n",
            " 40  Traffic_Calming        bool   \n",
            " 41  Traffic_Signal         bool   \n",
            " 42  Turning_Loop           bool   \n",
            " 43  Sunrise_Sunset         object \n",
            " 44  Civil_Twilight         object \n",
            " 45  Nautical_Twilight      object \n",
            " 46  Astronomical_Twilight  object \n",
            "dtypes: bool(13), float64(13), int64(1), object(20)\n",
            "memory usage: 773.4+ MB\n"
          ]
        }
      ]
    },
    {
      "cell_type": "code",
      "source": [
        "df.describe()"
      ],
      "metadata": {
        "colab": {
          "base_uri": "https://localhost:8080/",
          "height": 364
        },
        "id": "3-GbSWdY1sIs",
        "outputId": "4d938322-b191-4b1f-bb46-f7d7bec225da"
      },
      "execution_count": null,
      "outputs": [
        {
          "output_type": "execute_result",
          "data": {
            "text/plain": [
              "           Severity     Start_Lat     Start_Lng       End_Lat       End_Lng  \\\n",
              "count  2.845342e+06  2.845342e+06  2.845342e+06  2.845342e+06  2.845342e+06   \n",
              "mean   2.137572e+00  3.624520e+01 -9.711463e+01  3.624532e+01 -9.711439e+01   \n",
              "std    4.787216e-01  5.363797e+00  1.831782e+01  5.363873e+00  1.831763e+01   \n",
              "min    1.000000e+00  2.456603e+01 -1.245481e+02  2.456601e+01 -1.245457e+02   \n",
              "25%    2.000000e+00  3.344517e+01 -1.180331e+02  3.344628e+01 -1.180333e+02   \n",
              "50%    2.000000e+00  3.609861e+01 -9.241808e+01  3.609799e+01 -9.241772e+01   \n",
              "75%    2.000000e+00  4.016024e+01 -8.037243e+01  4.016105e+01 -8.037338e+01   \n",
              "max    4.000000e+00  4.900058e+01 -6.711317e+01  4.907500e+01 -6.710924e+01   \n",
              "\n",
              "       Distance(mi)        Number  Temperature(F)  Wind_Chill(F)  \\\n",
              "count  2.845342e+06  1.101431e+06    2.776068e+06   2.375699e+06   \n",
              "mean   7.026779e-01  8.089408e+03    6.179356e+01   5.965823e+01   \n",
              "std    1.560361e+00  1.836009e+04    1.862263e+01   2.116097e+01   \n",
              "min    0.000000e+00  0.000000e+00   -8.900000e+01  -8.900000e+01   \n",
              "25%    5.200000e-02  1.270000e+03    5.000000e+01   4.600000e+01   \n",
              "50%    2.440000e-01  4.007000e+03    6.400000e+01   6.300000e+01   \n",
              "75%    7.640000e-01  9.567000e+03    7.600000e+01   7.600000e+01   \n",
              "max    1.551860e+02  9.999997e+06    1.960000e+02   1.960000e+02   \n",
              "\n",
              "        Humidity(%)  Pressure(in)  Visibility(mi)  Wind_Speed(mph)  \\\n",
              "count  2.772250e+06  2.786142e+06    2.774796e+06     2.687398e+06   \n",
              "mean   6.436545e+01  2.947234e+01    9.099391e+00     7.395044e+00   \n",
              "std    2.287457e+01  1.045286e+00    2.717546e+00     5.527454e+00   \n",
              "min    1.000000e+00  0.000000e+00    0.000000e+00     0.000000e+00   \n",
              "25%    4.800000e+01  2.931000e+01    1.000000e+01     3.500000e+00   \n",
              "50%    6.700000e+01  2.982000e+01    1.000000e+01     7.000000e+00   \n",
              "75%    8.300000e+01  3.001000e+01    1.000000e+01     1.000000e+01   \n",
              "max    1.000000e+02  5.890000e+01    1.400000e+02     1.087000e+03   \n",
              "\n",
              "       Precipitation(in)  \n",
              "count       2.295884e+06  \n",
              "mean        7.016940e-03  \n",
              "std         9.348831e-02  \n",
              "min         0.000000e+00  \n",
              "25%         0.000000e+00  \n",
              "50%         0.000000e+00  \n",
              "75%         0.000000e+00  \n",
              "max         2.400000e+01  "
            ],
            "text/html": [
              "\n",
              "  <div id=\"df-ccc1e5f0-b154-4f81-ad41-661637595134\">\n",
              "    <div class=\"colab-df-container\">\n",
              "      <div>\n",
              "<style scoped>\n",
              "    .dataframe tbody tr th:only-of-type {\n",
              "        vertical-align: middle;\n",
              "    }\n",
              "\n",
              "    .dataframe tbody tr th {\n",
              "        vertical-align: top;\n",
              "    }\n",
              "\n",
              "    .dataframe thead th {\n",
              "        text-align: right;\n",
              "    }\n",
              "</style>\n",
              "<table border=\"1\" class=\"dataframe\">\n",
              "  <thead>\n",
              "    <tr style=\"text-align: right;\">\n",
              "      <th></th>\n",
              "      <th>Severity</th>\n",
              "      <th>Start_Lat</th>\n",
              "      <th>Start_Lng</th>\n",
              "      <th>End_Lat</th>\n",
              "      <th>End_Lng</th>\n",
              "      <th>Distance(mi)</th>\n",
              "      <th>Number</th>\n",
              "      <th>Temperature(F)</th>\n",
              "      <th>Wind_Chill(F)</th>\n",
              "      <th>Humidity(%)</th>\n",
              "      <th>Pressure(in)</th>\n",
              "      <th>Visibility(mi)</th>\n",
              "      <th>Wind_Speed(mph)</th>\n",
              "      <th>Precipitation(in)</th>\n",
              "    </tr>\n",
              "  </thead>\n",
              "  <tbody>\n",
              "    <tr>\n",
              "      <th>count</th>\n",
              "      <td>2.845342e+06</td>\n",
              "      <td>2.845342e+06</td>\n",
              "      <td>2.845342e+06</td>\n",
              "      <td>2.845342e+06</td>\n",
              "      <td>2.845342e+06</td>\n",
              "      <td>2.845342e+06</td>\n",
              "      <td>1.101431e+06</td>\n",
              "      <td>2.776068e+06</td>\n",
              "      <td>2.375699e+06</td>\n",
              "      <td>2.772250e+06</td>\n",
              "      <td>2.786142e+06</td>\n",
              "      <td>2.774796e+06</td>\n",
              "      <td>2.687398e+06</td>\n",
              "      <td>2.295884e+06</td>\n",
              "    </tr>\n",
              "    <tr>\n",
              "      <th>mean</th>\n",
              "      <td>2.137572e+00</td>\n",
              "      <td>3.624520e+01</td>\n",
              "      <td>-9.711463e+01</td>\n",
              "      <td>3.624532e+01</td>\n",
              "      <td>-9.711439e+01</td>\n",
              "      <td>7.026779e-01</td>\n",
              "      <td>8.089408e+03</td>\n",
              "      <td>6.179356e+01</td>\n",
              "      <td>5.965823e+01</td>\n",
              "      <td>6.436545e+01</td>\n",
              "      <td>2.947234e+01</td>\n",
              "      <td>9.099391e+00</td>\n",
              "      <td>7.395044e+00</td>\n",
              "      <td>7.016940e-03</td>\n",
              "    </tr>\n",
              "    <tr>\n",
              "      <th>std</th>\n",
              "      <td>4.787216e-01</td>\n",
              "      <td>5.363797e+00</td>\n",
              "      <td>1.831782e+01</td>\n",
              "      <td>5.363873e+00</td>\n",
              "      <td>1.831763e+01</td>\n",
              "      <td>1.560361e+00</td>\n",
              "      <td>1.836009e+04</td>\n",
              "      <td>1.862263e+01</td>\n",
              "      <td>2.116097e+01</td>\n",
              "      <td>2.287457e+01</td>\n",
              "      <td>1.045286e+00</td>\n",
              "      <td>2.717546e+00</td>\n",
              "      <td>5.527454e+00</td>\n",
              "      <td>9.348831e-02</td>\n",
              "    </tr>\n",
              "    <tr>\n",
              "      <th>min</th>\n",
              "      <td>1.000000e+00</td>\n",
              "      <td>2.456603e+01</td>\n",
              "      <td>-1.245481e+02</td>\n",
              "      <td>2.456601e+01</td>\n",
              "      <td>-1.245457e+02</td>\n",
              "      <td>0.000000e+00</td>\n",
              "      <td>0.000000e+00</td>\n",
              "      <td>-8.900000e+01</td>\n",
              "      <td>-8.900000e+01</td>\n",
              "      <td>1.000000e+00</td>\n",
              "      <td>0.000000e+00</td>\n",
              "      <td>0.000000e+00</td>\n",
              "      <td>0.000000e+00</td>\n",
              "      <td>0.000000e+00</td>\n",
              "    </tr>\n",
              "    <tr>\n",
              "      <th>25%</th>\n",
              "      <td>2.000000e+00</td>\n",
              "      <td>3.344517e+01</td>\n",
              "      <td>-1.180331e+02</td>\n",
              "      <td>3.344628e+01</td>\n",
              "      <td>-1.180333e+02</td>\n",
              "      <td>5.200000e-02</td>\n",
              "      <td>1.270000e+03</td>\n",
              "      <td>5.000000e+01</td>\n",
              "      <td>4.600000e+01</td>\n",
              "      <td>4.800000e+01</td>\n",
              "      <td>2.931000e+01</td>\n",
              "      <td>1.000000e+01</td>\n",
              "      <td>3.500000e+00</td>\n",
              "      <td>0.000000e+00</td>\n",
              "    </tr>\n",
              "    <tr>\n",
              "      <th>50%</th>\n",
              "      <td>2.000000e+00</td>\n",
              "      <td>3.609861e+01</td>\n",
              "      <td>-9.241808e+01</td>\n",
              "      <td>3.609799e+01</td>\n",
              "      <td>-9.241772e+01</td>\n",
              "      <td>2.440000e-01</td>\n",
              "      <td>4.007000e+03</td>\n",
              "      <td>6.400000e+01</td>\n",
              "      <td>6.300000e+01</td>\n",
              "      <td>6.700000e+01</td>\n",
              "      <td>2.982000e+01</td>\n",
              "      <td>1.000000e+01</td>\n",
              "      <td>7.000000e+00</td>\n",
              "      <td>0.000000e+00</td>\n",
              "    </tr>\n",
              "    <tr>\n",
              "      <th>75%</th>\n",
              "      <td>2.000000e+00</td>\n",
              "      <td>4.016024e+01</td>\n",
              "      <td>-8.037243e+01</td>\n",
              "      <td>4.016105e+01</td>\n",
              "      <td>-8.037338e+01</td>\n",
              "      <td>7.640000e-01</td>\n",
              "      <td>9.567000e+03</td>\n",
              "      <td>7.600000e+01</td>\n",
              "      <td>7.600000e+01</td>\n",
              "      <td>8.300000e+01</td>\n",
              "      <td>3.001000e+01</td>\n",
              "      <td>1.000000e+01</td>\n",
              "      <td>1.000000e+01</td>\n",
              "      <td>0.000000e+00</td>\n",
              "    </tr>\n",
              "    <tr>\n",
              "      <th>max</th>\n",
              "      <td>4.000000e+00</td>\n",
              "      <td>4.900058e+01</td>\n",
              "      <td>-6.711317e+01</td>\n",
              "      <td>4.907500e+01</td>\n",
              "      <td>-6.710924e+01</td>\n",
              "      <td>1.551860e+02</td>\n",
              "      <td>9.999997e+06</td>\n",
              "      <td>1.960000e+02</td>\n",
              "      <td>1.960000e+02</td>\n",
              "      <td>1.000000e+02</td>\n",
              "      <td>5.890000e+01</td>\n",
              "      <td>1.400000e+02</td>\n",
              "      <td>1.087000e+03</td>\n",
              "      <td>2.400000e+01</td>\n",
              "    </tr>\n",
              "  </tbody>\n",
              "</table>\n",
              "</div>\n",
              "      <button class=\"colab-df-convert\" onclick=\"convertToInteractive('df-ccc1e5f0-b154-4f81-ad41-661637595134')\"\n",
              "              title=\"Convert this dataframe to an interactive table.\"\n",
              "              style=\"display:none;\">\n",
              "        \n",
              "  <svg xmlns=\"http://www.w3.org/2000/svg\" height=\"24px\"viewBox=\"0 0 24 24\"\n",
              "       width=\"24px\">\n",
              "    <path d=\"M0 0h24v24H0V0z\" fill=\"none\"/>\n",
              "    <path d=\"M18.56 5.44l.94 2.06.94-2.06 2.06-.94-2.06-.94-.94-2.06-.94 2.06-2.06.94zm-11 1L8.5 8.5l.94-2.06 2.06-.94-2.06-.94L8.5 2.5l-.94 2.06-2.06.94zm10 10l.94 2.06.94-2.06 2.06-.94-2.06-.94-.94-2.06-.94 2.06-2.06.94z\"/><path d=\"M17.41 7.96l-1.37-1.37c-.4-.4-.92-.59-1.43-.59-.52 0-1.04.2-1.43.59L10.3 9.45l-7.72 7.72c-.78.78-.78 2.05 0 2.83L4 21.41c.39.39.9.59 1.41.59.51 0 1.02-.2 1.41-.59l7.78-7.78 2.81-2.81c.8-.78.8-2.07 0-2.86zM5.41 20L4 18.59l7.72-7.72 1.47 1.35L5.41 20z\"/>\n",
              "  </svg>\n",
              "      </button>\n",
              "      \n",
              "  <style>\n",
              "    .colab-df-container {\n",
              "      display:flex;\n",
              "      flex-wrap:wrap;\n",
              "      gap: 12px;\n",
              "    }\n",
              "\n",
              "    .colab-df-convert {\n",
              "      background-color: #E8F0FE;\n",
              "      border: none;\n",
              "      border-radius: 50%;\n",
              "      cursor: pointer;\n",
              "      display: none;\n",
              "      fill: #1967D2;\n",
              "      height: 32px;\n",
              "      padding: 0 0 0 0;\n",
              "      width: 32px;\n",
              "    }\n",
              "\n",
              "    .colab-df-convert:hover {\n",
              "      background-color: #E2EBFA;\n",
              "      box-shadow: 0px 1px 2px rgba(60, 64, 67, 0.3), 0px 1px 3px 1px rgba(60, 64, 67, 0.15);\n",
              "      fill: #174EA6;\n",
              "    }\n",
              "\n",
              "    [theme=dark] .colab-df-convert {\n",
              "      background-color: #3B4455;\n",
              "      fill: #D2E3FC;\n",
              "    }\n",
              "\n",
              "    [theme=dark] .colab-df-convert:hover {\n",
              "      background-color: #434B5C;\n",
              "      box-shadow: 0px 1px 3px 1px rgba(0, 0, 0, 0.15);\n",
              "      filter: drop-shadow(0px 1px 2px rgba(0, 0, 0, 0.3));\n",
              "      fill: #FFFFFF;\n",
              "    }\n",
              "  </style>\n",
              "\n",
              "      <script>\n",
              "        const buttonEl =\n",
              "          document.querySelector('#df-ccc1e5f0-b154-4f81-ad41-661637595134 button.colab-df-convert');\n",
              "        buttonEl.style.display =\n",
              "          google.colab.kernel.accessAllowed ? 'block' : 'none';\n",
              "\n",
              "        async function convertToInteractive(key) {\n",
              "          const element = document.querySelector('#df-ccc1e5f0-b154-4f81-ad41-661637595134');\n",
              "          const dataTable =\n",
              "            await google.colab.kernel.invokeFunction('convertToInteractive',\n",
              "                                                     [key], {});\n",
              "          if (!dataTable) return;\n",
              "\n",
              "          const docLinkHtml = 'Like what you see? Visit the ' +\n",
              "            '<a target=\"_blank\" href=https://colab.research.google.com/notebooks/data_table.ipynb>data table notebook</a>'\n",
              "            + ' to learn more about interactive tables.';\n",
              "          element.innerHTML = '';\n",
              "          dataTable['output_type'] = 'display_data';\n",
              "          await google.colab.output.renderOutput(dataTable, element);\n",
              "          const docLink = document.createElement('div');\n",
              "          docLink.innerHTML = docLinkHtml;\n",
              "          element.appendChild(docLink);\n",
              "        }\n",
              "      </script>\n",
              "    </div>\n",
              "  </div>\n",
              "  "
            ]
          },
          "metadata": {},
          "execution_count": 10
        }
      ]
    },
    {
      "cell_type": "code",
      "source": [
        "numerics = ['int16', 'int32', 'int64', 'float16', 'float32', 'float64']\n",
        "\n",
        "numeric_df = df.select_dtypes(include=numerics)\n",
        "len(numeric_df.columns)"
      ],
      "metadata": {
        "colab": {
          "base_uri": "https://localhost:8080/"
        },
        "id": "vAS0BgDY1u-v",
        "outputId": "c14a9567-bdd2-43c7-db0e-242ccaa1f8d4"
      },
      "execution_count": null,
      "outputs": [
        {
          "output_type": "execute_result",
          "data": {
            "text/plain": [
              "14"
            ]
          },
          "metadata": {},
          "execution_count": 11
        }
      ]
    },
    {
      "cell_type": "markdown",
      "source": [
        "Percentage of missing values per column"
      ],
      "metadata": {
        "id": "nAUu0JQ117ef"
      }
    },
    {
      "cell_type": "code",
      "source": [
        "missing_percentages = df.isna().sum().sort_values(ascending=False) / len(df)\n",
        "missing_percentages"
      ],
      "metadata": {
        "colab": {
          "base_uri": "https://localhost:8080/"
        },
        "id": "QOI3emXz1z-Y",
        "outputId": "ef2cb7a8-4537-46ad-d754-3b8e077bc233"
      },
      "execution_count": null,
      "outputs": [
        {
          "output_type": "execute_result",
          "data": {
            "text/plain": [
              "Number                   6.129003e-01\n",
              "Precipitation(in)        1.931079e-01\n",
              "Wind_Chill(F)            1.650568e-01\n",
              "Wind_Speed(mph)          5.550967e-02\n",
              "Wind_Direction           2.592834e-02\n",
              "Humidity(%)              2.568830e-02\n",
              "Weather_Condition        2.482514e-02\n",
              "Visibility(mi)           2.479350e-02\n",
              "Temperature(F)           2.434646e-02\n",
              "Pressure(in)             2.080593e-02\n",
              "Weather_Timestamp        1.783125e-02\n",
              "Airport_Code             3.356011e-03\n",
              "Timezone                 1.285961e-03\n",
              "Nautical_Twilight        1.007612e-03\n",
              "Civil_Twilight           1.007612e-03\n",
              "Sunrise_Sunset           1.007612e-03\n",
              "Astronomical_Twilight    1.007612e-03\n",
              "Zipcode                  4.635647e-04\n",
              "City                     4.814887e-05\n",
              "Street                   7.029032e-07\n",
              "Country                  0.000000e+00\n",
              "Junction                 0.000000e+00\n",
              "Start_Time               0.000000e+00\n",
              "End_Time                 0.000000e+00\n",
              "Start_Lat                0.000000e+00\n",
              "Turning_Loop             0.000000e+00\n",
              "Traffic_Signal           0.000000e+00\n",
              "Traffic_Calming          0.000000e+00\n",
              "Stop                     0.000000e+00\n",
              "Station                  0.000000e+00\n",
              "Roundabout               0.000000e+00\n",
              "Railway                  0.000000e+00\n",
              "No_Exit                  0.000000e+00\n",
              "Crossing                 0.000000e+00\n",
              "Give_Way                 0.000000e+00\n",
              "Bump                     0.000000e+00\n",
              "Amenity                  0.000000e+00\n",
              "Start_Lng                0.000000e+00\n",
              "End_Lat                  0.000000e+00\n",
              "End_Lng                  0.000000e+00\n",
              "Distance(mi)             0.000000e+00\n",
              "Description              0.000000e+00\n",
              "Severity                 0.000000e+00\n",
              "Side                     0.000000e+00\n",
              "County                   0.000000e+00\n",
              "State                    0.000000e+00\n",
              "ID                       0.000000e+00\n",
              "dtype: float64"
            ]
          },
          "metadata": {},
          "execution_count": 12
        }
      ]
    },
    {
      "cell_type": "code",
      "source": [
        "type(missing_percentages)"
      ],
      "metadata": {
        "colab": {
          "base_uri": "https://localhost:8080/"
        },
        "id": "MJFm24xj2Bt6",
        "outputId": "496cdbf0-bfed-4f5f-a761-d65b2bb01e42"
      },
      "execution_count": null,
      "outputs": [
        {
          "output_type": "execute_result",
          "data": {
            "text/plain": [
              "pandas.core.series.Series"
            ]
          },
          "metadata": {},
          "execution_count": 13
        }
      ]
    },
    {
      "cell_type": "code",
      "source": [
        "missing_percentages[missing_percentages != 0].plot(kind='barh')"
      ],
      "metadata": {
        "colab": {
          "base_uri": "https://localhost:8080/",
          "height": 282
        },
        "id": "4fFAkEBr2Zel",
        "outputId": "69d9b0b5-5022-4099-95c8-c90026b6b4f9"
      },
      "execution_count": null,
      "outputs": [
        {
          "output_type": "execute_result",
          "data": {
            "text/plain": [
              "<AxesSubplot:>"
            ]
          },
          "metadata": {},
          "execution_count": 14
        },
        {
          "output_type": "display_data",
          "data": {
            "text/plain": [
              "<Figure size 432x288 with 1 Axes>"
            ],
            "image/png": "[encoded data removed]"
          },
          "metadata": {
            "needs_background": "light"
          }
        }
      ]
    },
    {
      "cell_type": "markdown",
      "source": [
        "Remove columns that you don't want to use."
      ],
      "metadata": {
        "id": "hmPrGCRb2kaY"
      }
    },
    {
      "cell_type": "markdown",
      "source": [
        "## **Exploratory Analysis and Visualization**\n",
        "\n",
        "Columns we'll analyze:\n",
        "\n",
        "1. Start Time\n",
        "2. Start Lat, Start Lng\n",
        "3. Temperature\n",
        "4. Weather Condition"
      ],
      "metadata": {
        "id": "-G1xZ9cs2ysp"
      }
    },
    {
      "cell_type": "code",
      "source": [
        "df.columns"
      ],
      "metadata": {
        "colab": {
          "base_uri": "https://localhost:8080/"
        },
        "id": "xBYJtHvy2cRW",
        "outputId": "70446860-d6c2-4941-c880-1019a5de144e"
      },
      "execution_count": null,
      "outputs": [
        {
          "output_type": "execute_result",
          "data": {
            "text/plain": [
              "Index(['ID', 'Severity', 'Start_Time', 'End_Time', 'Start_Lat', 'Start_Lng',\n",
              "       'End_Lat', 'End_Lng', 'Distance(mi)', 'Description', 'Number', 'Street',\n",
              "       'Side', 'City', 'County', 'State', 'Zipcode', 'Country', 'Timezone',\n",
              "       'Airport_Code', 'Weather_Timestamp', 'Temperature(F)', 'Wind_Chill(F)',\n",
              "       'Humidity(%)', 'Pressure(in)', 'Visibility(mi)', 'Wind_Direction',\n",
              "       'Wind_Speed(mph)', 'Precipitation(in)', 'Weather_Condition', 'Amenity',\n",
              "       'Bump', 'Crossing', 'Give_Way', 'Junction', 'No_Exit', 'Railway',\n",
              "       'Roundabout', 'Station', 'Stop', 'Traffic_Calming', 'Traffic_Signal',\n",
              "       'Turning_Loop', 'Sunrise_Sunset', 'Civil_Twilight', 'Nautical_Twilight',\n",
              "       'Astronomical_Twilight'],\n",
              "      dtype='object')"
            ]
          },
          "metadata": {},
          "execution_count": 15
        }
      ]
    },
    {
      "cell_type": "markdown",
      "source": [
        "*CITY*"
      ],
      "metadata": {
        "id": "Fc_1woAd3PnX"
      }
    },
    {
      "cell_type": "code",
      "source": [
        "df.City"
      ],
      "metadata": {
        "colab": {
          "base_uri": "https://localhost:8080/"
        },
        "id": "FNVFHLEW3Lrg",
        "outputId": "9f37cdbd-f7ff-4aaa-aba2-49cbf08b6416"
      },
      "execution_count": null,
      "outputs": [
        {
          "output_type": "execute_result",
          "data": {
            "text/plain": [
              "0               Dublin\n",
              "1               Dayton\n",
              "2           Cincinnati\n",
              "3                Akron\n",
              "4           Cincinnati\n",
              "              ...     \n",
              "2845337      Riverside\n",
              "2845338      San Diego\n",
              "2845339         Orange\n",
              "2845340    Culver City\n",
              "2845341       Highland\n",
              "Name: City, Length: 2845342, dtype: object"
            ]
          },
          "metadata": {},
          "execution_count": 16
        }
      ]
    },
    {
      "cell_type": "code",
      "source": [
        "cities = df.City.unique()\n",
        "len(cities)"
      ],
      "metadata": {
        "colab": {
          "base_uri": "https://localhost:8080/"
        },
        "id": "eC5RH9kI3Uhv",
        "outputId": "21ef849d-2e8b-4720-c71c-f2b3f9677a8f"
      },
      "execution_count": null,
      "outputs": [
        {
          "output_type": "execute_result",
          "data": {
            "text/plain": [
              "11682"
            ]
          },
          "metadata": {},
          "execution_count": 17
        }
      ]
    },
    {
      "cell_type": "code",
      "source": [
        "cities_by_accident = df.City.value_counts()\n",
        "cities_by_accident"
      ],
      "metadata": {
        "colab": {
          "base_uri": "https://localhost:8080/"
        },
        "id": "U4G7o_Ju3ZoD",
        "outputId": "0cdece4e-2624-4a9f-b564-dc37538bb395"
      },
      "execution_count": null,
      "outputs": [
        {
          "output_type": "execute_result",
          "data": {
            "text/plain": [
              "Miami                           106966\n",
              "Los Angeles                      68956\n",
              "Orlando                          54691\n",
              "Dallas                           41979\n",
              "Houston                          39448\n",
              "                                 ...  \n",
              "Ridgedale                            1\n",
              "Sekiu                                1\n",
              "Wooldridge                           1\n",
              "Bullock                              1\n",
              "American Fork-Pleasant Grove         1\n",
              "Name: City, Length: 11681, dtype: int64"
            ]
          },
          "metadata": {},
          "execution_count": 18
        }
      ]
    },
    {
      "cell_type": "code",
      "source": [
        "cities_by_accident[:20]"
      ],
      "metadata": {
        "colab": {
          "base_uri": "https://localhost:8080/"
        },
        "id": "Vzhp0V7h3eRy",
        "outputId": "6ceddf61-5655-415d-dc0d-dbea51fbf3f6"
      },
      "execution_count": null,
      "outputs": [
        {
          "output_type": "execute_result",
          "data": {
            "text/plain": [
              "Miami           106966\n",
              "Los Angeles      68956\n",
              "Orlando          54691\n",
              "Dallas           41979\n",
              "Houston          39448\n",
              "Charlotte        33152\n",
              "Sacramento       32559\n",
              "San Diego        26627\n",
              "Raleigh          22840\n",
              "Minneapolis      22768\n",
              "Portland         20944\n",
              "Nashville        20267\n",
              "Austin           18301\n",
              "Baton Rouge      18182\n",
              "Phoenix          17143\n",
              "Saint Paul       16869\n",
              "New Orleans      16251\n",
              "Atlanta          15622\n",
              "Jacksonville     14967\n",
              "Richmond         14349\n",
              "Name: City, dtype: int64"
            ]
          },
          "metadata": {},
          "execution_count": 19
        }
      ]
    },
    {
      "cell_type": "code",
      "source": [
        "type(cities_by_accident)"
      ],
      "metadata": {
        "colab": {
          "base_uri": "https://localhost:8080/"
        },
        "id": "hLoUGd3m3hFA",
        "outputId": "eb124695-b458-41b8-c091-ec6e96a66a86"
      },
      "execution_count": null,
      "outputs": [
        {
          "output_type": "execute_result",
          "data": {
            "text/plain": [
              "pandas.core.series.Series"
            ]
          },
          "metadata": {},
          "execution_count": 20
        }
      ]
    },
    {
      "cell_type": "code",
      "source": [
        "cities_by_accident[:20].plot(kind='barh')\n"
      ],
      "metadata": {
        "colab": {
          "base_uri": "https://localhost:8080/",
          "height": 282
        },
        "id": "Wet1YP8d3kad",
        "outputId": "4c1d19e4-4a61-4730-f674-0d9dfb89f4af"
      },
      "execution_count": null,
      "outputs": [
        {
          "output_type": "execute_result",
          "data": {
            "text/plain": [
              "<AxesSubplot:>"
            ]
          },
          "metadata": {},
          "execution_count": 21
        },
        {
          "output_type": "display_data",
          "data": {
            "text/plain": [
              "<Figure size 432x288 with 1 Axes>"
            ],
            "image/png": "[encoded data removed]"
          },
          "metadata": {
            "needs_background": "light"
          }
        }
      ]
    },
    {
      "cell_type": "code",
      "source": [
        "import seaborn as sns\n",
        "sns.set_style(\"darkgrid\")"
      ],
      "metadata": {
        "id": "neqdt4aB3q5_"
      },
      "execution_count": null,
      "outputs": []
    },
    {
      "cell_type": "code",
      "source": [
        "sns.histplot(cities_by_accident, log_scale=True)"
      ],
      "metadata": {
        "colab": {
          "base_uri": "https://localhost:8080/",
          "height": 300
        },
        "id": "HEJFjtyH3v-w",
        "outputId": "4aeb7a2e-7be8-42ae-d4e2-33a5744df3ae"
      },
      "execution_count": null,
      "outputs": [
        {
          "output_type": "execute_result",
          "data": {
            "text/plain": [
              "<AxesSubplot:xlabel='City', ylabel='Count'>"
            ]
          },
          "metadata": {},
          "execution_count": 23
        },
        {
          "output_type": "display_data",
          "data": {
            "text/plain": [
              "<Figure size 432x288 with 1 Axes>"
            ],
            "image/png": "[encoded data removed]"
          },
          "metadata": {}
        }
      ]
    },
    {
      "cell_type": "code",
      "source": [
        "cities_by_accident[cities_by_accident == 1]"
      ],
      "metadata": {
        "colab": {
          "base_uri": "https://localhost:8080/"
        },
        "id": "B7NdqGV4307M",
        "outputId": "5de3332b-764f-4849-c89b-1234930a029a"
      },
      "execution_count": null,
      "outputs": [
        {
          "output_type": "execute_result",
          "data": {
            "text/plain": [
              "Carney                          1\n",
              "Waverly Hall                    1\n",
              "Center Sandwich                 1\n",
              "Glen Flora                      1\n",
              "Sulphur Springs                 1\n",
              "                               ..\n",
              "Ridgedale                       1\n",
              "Sekiu                           1\n",
              "Wooldridge                      1\n",
              "Bullock                         1\n",
              "American Fork-Pleasant Grove    1\n",
              "Name: City, Length: 1110, dtype: int64"
            ]
          },
          "metadata": {},
          "execution_count": 24
        }
      ]
    },
    {
      "cell_type": "markdown",
      "source": [
        "*START TIME*"
      ],
      "metadata": {
        "id": "bwBNxINB4Bqi"
      }
    },
    {
      "cell_type": "code",
      "source": [
        "df.Start_Time"
      ],
      "metadata": {
        "colab": {
          "base_uri": "https://localhost:8080/"
        },
        "id": "RCuQIF3H394n",
        "outputId": "562c6861-564f-4ddc-e14b-583d8d0097e5"
      },
      "execution_count": null,
      "outputs": [
        {
          "output_type": "execute_result",
          "data": {
            "text/plain": [
              "0          2016-02-08 00:37:08\n",
              "1          2016-02-08 05:56:20\n",
              "2          2016-02-08 06:15:39\n",
              "3          2016-02-08 06:51:45\n",
              "4          2016-02-08 07:53:43\n",
              "                  ...         \n",
              "2845337    2019-08-23 18:03:25\n",
              "2845338    2019-08-23 19:11:30\n",
              "2845339    2019-08-23 19:00:21\n",
              "2845340    2019-08-23 19:00:21\n",
              "2845341    2019-08-23 18:52:06\n",
              "Name: Start_Time, Length: 2845342, dtype: object"
            ]
          },
          "metadata": {},
          "execution_count": 25
        }
      ]
    },
    {
      "cell_type": "code",
      "source": [
        "df.Start_Time = pd.to_datetime(df.Start_Time)"
      ],
      "metadata": {
        "id": "9wv_pj3b4K4X"
      },
      "execution_count": null,
      "outputs": []
    },
    {
      "cell_type": "code",
      "source": [
        "sns.distplot(df.Start_Time.dt.hour, bins=24, kde=False, norm_hist=True)"
      ],
      "metadata": {
        "colab": {
          "base_uri": "https://localhost:8080/",
          "height": 352
        },
        "id": "kANLqeVT4Oma",
        "outputId": "f7abb5d8-9cd8-4a46-865e-fe8578f11e10"
      },
      "execution_count": null,
      "outputs": [
        {
          "output_type": "stream",
          "name": "stderr",
          "text": [
            "/usr/local/lib/python3.9/dist-packages/seaborn/distributions.py:2619: FutureWarning: `distplot` is a deprecated function and will be removed in a future version. Please adapt your code to use either `displot` (a figure-level function with similar flexibility) or `histplot` (an axes-level function for histograms).\n",
            "  warnings.warn(msg, FutureWarning)\n"
          ]
        },
        {
          "output_type": "execute_result",
          "data": {
            "text/plain": [
              "<AxesSubplot:xlabel='Start_Time'>"
            ]
          },
          "metadata": {},
          "execution_count": 29
        },
        {
          "output_type": "display_data",
          "data": {
            "text/plain": [
              "<Figure size 432x288 with 1 Axes>"
            ],
            "image/png": "[encoded data removed]"
          },
          "metadata": {}
        }
      ]
    },
    {
      "cell_type": "markdown",
      "source": [
        "\n",
        "\n",
        "1.   A high percentage of accidents occur between 6 am to 10 am (probably people in a hurry to get to work)\n",
        "\n",
        "2.  Next higest percentage is 3 pm to 6 pm.\n",
        "\n"
      ],
      "metadata": {
        "id": "m5QM0XT15-K7"
      }
    },
    {
      "cell_type": "code",
      "source": [
        "sns.distplot(df.Start_Time.dt.dayofweek, bins=7, kde=False, norm_hist=True)"
      ],
      "metadata": {
        "colab": {
          "base_uri": "https://localhost:8080/",
          "height": 352
        },
        "id": "HyIK7JAC5nOd",
        "outputId": "c82f89c4-df22-44ca-bf1a-9bbf04c9c942"
      },
      "execution_count": null,
      "outputs": [
        {
          "output_type": "stream",
          "name": "stderr",
          "text": [
            "/usr/local/lib/python3.9/dist-packages/seaborn/distributions.py:2619: FutureWarning: `distplot` is a deprecated function and will be removed in a future version. Please adapt your code to use either `displot` (a figure-level function with similar flexibility) or `histplot` (an axes-level function for histograms).\n",
            "  warnings.warn(msg, FutureWarning)\n"
          ]
        },
        {
          "output_type": "execute_result",
          "data": {
            "text/plain": [
              "<AxesSubplot:xlabel='Start_Time'>"
            ]
          },
          "metadata": {},
          "execution_count": 30
        },
        {
          "output_type": "display_data",
          "data": {
            "text/plain": [
              "<Figure size 432x288 with 1 Axes>"
            ],
            "image/png": "[encoded data removed]"
          },
          "metadata": {}
        }
      ]
    },
    {
      "cell_type": "markdown",
      "source": [
        "Is the distribution of accidents by hour the same on weekends as on weekdays."
      ],
      "metadata": {
        "id": "TAZeOLp06hx8"
      }
    },
    {
      "cell_type": "code",
      "source": [
        "sns.distplot(df.Start_Time.dt.month, bins=12, kde=False, norm_hist=True)"
      ],
      "metadata": {
        "colab": {
          "base_uri": "https://localhost:8080/",
          "height": 352
        },
        "id": "-ewWCcw16T5g",
        "outputId": "85fd09ad-2ec1-4675-c349-50ee07ea3d27"
      },
      "execution_count": null,
      "outputs": [
        {
          "output_type": "stream",
          "name": "stderr",
          "text": [
            "/usr/local/lib/python3.9/dist-packages/seaborn/distributions.py:2619: FutureWarning: `distplot` is a deprecated function and will be removed in a future version. Please adapt your code to use either `displot` (a figure-level function with similar flexibility) or `histplot` (an axes-level function for histograms).\n",
            "  warnings.warn(msg, FutureWarning)\n"
          ]
        },
        {
          "output_type": "execute_result",
          "data": {
            "text/plain": [
              "<AxesSubplot:xlabel='Start_Time'>"
            ]
          },
          "metadata": {},
          "execution_count": 33
        },
        {
          "output_type": "display_data",
          "data": {
            "text/plain": [
              "<Figure size 432x288 with 1 Axes>"
            ],
            "image/png": "[encoded data removed]"
          },
          "metadata": {}
        }
      ]
    },
    {
      "cell_type": "markdown",
      "source": [
        "Is the distribution of accidents by months of the year."
      ],
      "metadata": {
        "id": "De_n--h56e_e"
      }
    },
    {
      "cell_type": "code",
      "source": [
        "sundays_start_time = df.Start_Time[df.Start_Time.dt.dayofweek == 6]\n",
        "sns.distplot(sundays_start_time.dt.hour, bins=24, kde=False, norm_hist=True)"
      ],
      "metadata": {
        "colab": {
          "base_uri": "https://localhost:8080/",
          "height": 297
        },
        "id": "ZznQ2ODJ8Egz",
        "outputId": "b8978f3d-4b8c-4c0e-f641-5efa61abb021"
      },
      "execution_count": null,
      "outputs": [
        {
          "output_type": "execute_result",
          "data": {
            "text/plain": [
              "<AxesSubplot:xlabel='Start_Time'>"
            ]
          },
          "metadata": {},
          "execution_count": 34
        },
        {
          "output_type": "display_data",
          "data": {
            "text/plain": [
              "<Figure size 432x288 with 1 Axes>"
            ],
            "image/png": "[encoded data removed]"
          },
          "metadata": {}
        }
      ]
    },
    {
      "cell_type": "code",
      "source": [
        "monday_start_time = df.Start_Time[df.Start_Time.dt.dayofweek == 0]\n",
        "sns.distplot(monday_start_time.dt.hour, bins=24, kde=False, norm_hist=True)"
      ],
      "metadata": {
        "colab": {
          "base_uri": "https://localhost:8080/",
          "height": 297
        },
        "id": "6lV9u5K48TRU",
        "outputId": "547ab4ed-a857-47d2-addb-a9eafee25516"
      },
      "execution_count": null,
      "outputs": [
        {
          "output_type": "execute_result",
          "data": {
            "text/plain": [
              "<AxesSubplot:xlabel='Start_Time'>"
            ]
          },
          "metadata": {},
          "execution_count": 35
        },
        {
          "output_type": "display_data",
          "data": {
            "text/plain": [
              "<Figure size 432x288 with 1 Axes>"
            ],
            "image/png": "[encoded data removed]"
          },
          "metadata": {}
        }
      ]
    },
    {
      "cell_type": "markdown",
      "source": [
        "On Sundays, the peak occurs between 10 am and 3 pm, unlike weekdays"
      ],
      "metadata": {
        "id": "z_OPlEXi8Z81"
      }
    },
    {
      "cell_type": "markdown",
      "source": [
        "*START LATITUDE AND LONGITUDE *"
      ],
      "metadata": {
        "id": "A3i5qLyp8tnM"
      }
    },
    {
      "cell_type": "code",
      "source": [
        "df.Start_Lat\n"
      ],
      "metadata": {
        "colab": {
          "base_uri": "https://localhost:8080/"
        },
        "id": "r6wmgtOa8oni",
        "outputId": "117c0ede-2dff-40cf-f663-c2a346b0b86f"
      },
      "execution_count": null,
      "outputs": [
        {
          "output_type": "execute_result",
          "data": {
            "text/plain": [
              "0          40.108910\n",
              "1          39.865420\n",
              "2          39.102660\n",
              "3          41.062130\n",
              "4          39.172393\n",
              "             ...    \n",
              "2845337    34.002480\n",
              "2845338    32.766960\n",
              "2845339    33.775450\n",
              "2845340    33.992460\n",
              "2845341    34.133930\n",
              "Name: Start_Lat, Length: 2845342, dtype: float64"
            ]
          },
          "metadata": {},
          "execution_count": 39
        }
      ]
    },
    {
      "cell_type": "code",
      "source": [
        "df.Start_Lng"
      ],
      "metadata": {
        "colab": {
          "base_uri": "https://localhost:8080/"
        },
        "id": "lIkV3S3f9AI5",
        "outputId": "32515122-04f9-42cf-9a85-0d5b3f7499ea"
      },
      "execution_count": null,
      "outputs": [
        {
          "output_type": "execute_result",
          "data": {
            "text/plain": [
              "0          -83.092860\n",
              "1          -84.062800\n",
              "2          -84.524680\n",
              "3          -81.537840\n",
              "4          -84.492792\n",
              "              ...    \n",
              "2845337   -117.379360\n",
              "2845338   -117.148060\n",
              "2845339   -117.847790\n",
              "2845340   -118.403020\n",
              "2845341   -117.230920\n",
              "Name: Start_Lng, Length: 2845342, dtype: float64"
            ]
          },
          "metadata": {},
          "execution_count": 40
        }
      ]
    },
    {
      "cell_type": "code",
      "source": [
        "sample_df = df.sample(int(0.1 * len(df)))"
      ],
      "metadata": {
        "id": "DdJ12-Pf9EU6"
      },
      "execution_count": null,
      "outputs": []
    },
    {
      "cell_type": "markdown",
      "source": [
        "The above piece of code is used to make the sample data of the data frame of 10 percent sample size of the whole population data frae 0.1 refers to the 10 percent"
      ],
      "metadata": {
        "id": "44bKLSfQ-SVo"
      }
    },
    {
      "cell_type": "code",
      "source": [
        "sns.scatterplot(x=sample_df.Start_Lng, y=sample_df.Start_Lat, size=0.001)"
      ],
      "metadata": {
        "colab": {
          "base_uri": "https://localhost:8080/",
          "height": 300
        },
        "id": "vOgaRka39OP4",
        "outputId": "a2774ff3-ec5c-48b2-b9f4-b114f8005b36"
      },
      "execution_count": null,
      "outputs": [
        {
          "output_type": "execute_result",
          "data": {
            "text/plain": [
              "<AxesSubplot:xlabel='Start_Lng', ylabel='Start_Lat'>"
            ]
          },
          "metadata": {},
          "execution_count": 42
        },
        {
          "output_type": "display_data",
          "data": {
            "text/plain": [
              "<Figure size 432x288 with 1 Axes>"
            ],
            "image/png": "[encoded data removed]"
          },
          "metadata": {}
        }
      ]
    },
    {
      "cell_type": "code",
      "source": [
        "import folium"
      ],
      "metadata": {
        "id": "TlV6M9lK-Pf3"
      },
      "execution_count": null,
      "outputs": []
    },
    {
      "cell_type": "code",
      "source": [
        "lat, lon = df.Start_Lat[0], df.Start_Lng[0]\n",
        "lat, lon"
      ],
      "metadata": {
        "colab": {
          "base_uri": "https://localhost:8080/"
        },
        "id": "BDET7cC8-m3M",
        "outputId": "3ea75f31-e8dc-4b65-dc59-43fa63cef82e"
      },
      "execution_count": null,
      "outputs": [
        {
          "output_type": "execute_result",
          "data": {
            "text/plain": [
              "(40.10891, -83.09286)"
            ]
          },
          "metadata": {},
          "execution_count": 44
        }
      ]
    },
    {
      "cell_type": "code",
      "source": [
        "for x in df[['Start_Lat', 'Start_Lng']].sample(100).iteritems():\n",
        "    print(x[1])"
      ],
      "metadata": {
        "colab": {
          "base_uri": "https://localhost:8080/"
        },
        "id": "Ygrgo82U-zrU",
        "outputId": "2c949193-8b5a-41c9-903c-3add035c5551"
      },
      "execution_count": null,
      "outputs": [
        {
          "output_type": "stream",
          "name": "stdout",
          "text": [
            "887040     25.698141\n",
            "2799396    39.168450\n",
            "528579     33.850686\n",
            "2428334    33.870795\n",
            "1839788    29.767531\n",
            "             ...    \n",
            "1253588    38.975346\n",
            "1829582    34.715119\n",
            "1930344    35.112982\n",
            "1312967    40.815594\n",
            "76340      34.964097\n",
            "Name: Start_Lat, Length: 100, dtype: float64\n",
            "887040     -80.382168\n",
            "2799396    -94.624770\n",
            "528579    -117.814877\n",
            "2428334   -117.740212\n",
            "1839788    -95.344430\n",
            "              ...    \n",
            "1253588   -119.894586\n",
            "1829582    -92.359225\n",
            "1930344    -85.263505\n",
            "1312967    -73.373459\n",
            "76340      -82.005292\n",
            "Name: Start_Lng, Length: 100, dtype: float64\n"
          ]
        }
      ]
    },
    {
      "cell_type": "code",
      "source": [
        "zip(list(df.Start_Lat), list(df.Start_Lng))"
      ],
      "metadata": {
        "colab": {
          "base_uri": "https://localhost:8080/"
        },
        "id": "Jdf4LCV8-3AM",
        "outputId": "87f7f277-720d-4c71-dae3-38773a8e4aa9"
      },
      "execution_count": null,
      "outputs": [
        {
          "output_type": "execute_result",
          "data": {
            "text/plain": [
              "<zip at 0x7f5ddeb8b7c0>"
            ]
          },
          "metadata": {},
          "execution_count": 46
        }
      ]
    },
    {
      "cell_type": "code",
      "source": [
        "from folium.plugins import HeatMap"
      ],
      "metadata": {
        "id": "cBgZoE1g_Dsm"
      },
      "execution_count": null,
      "outputs": []
    },
    {
      "cell_type": "code",
      "source": [
        "sample_df = df.sample(int(0.001 * len(df)))\n",
        "lat_lon_pairs = list(zip(list(sample_df.Start_Lat), list(sample_df.Start_Lng)))"
      ],
      "metadata": {
        "id": "X3d8LDgb_HkA"
      },
      "execution_count": null,
      "outputs": []
    },
    {
      "cell_type": "code",
      "source": [
        "map = folium.Map()\n",
        "HeatMap(lat_lon_pairs).add_to(map)\n",
        "map"
      ],
      "metadata": {
        "colab": {
          "base_uri": "https://localhost:8080/",
          "height": 763
        },
        "id": "BDJHoLBi_Jst",
        "outputId": "008150b3-5585-4453-941f-456dc6864636"
      },
      "execution_count": null,
      "outputs": [
        {
          "output_type": "execute_result",
          "data": {
            "text/plain": [
              "<folium.folium.Map at 0x7f5dd399f880>"
            ],
            "text/html": [
              "<div style=\"width:100%;\"><div style=\"position:relative;width:100%;height:0;padding-bottom:60%;\"><span style=\"color:#565656\">Make this Notebook Trusted to load map: File -> Trust Notebook</span><iframe srcdoc=\"&lt;!DOCTYPE html&gt;\n",
              "&lt;html&gt;\n",
              "&lt;head&gt;\n",
              "    \n",
              "    &lt;meta http-equiv=&quot;content-type&quot; content=&quot;text/html; charset=UTF-8&quot; /&gt;\n",
              "    \n",
              "        &lt;script&gt;\n",
              "            L_NO_TOUCH = false;\n",
              "            L_DISABLE_3D = false;\n",
              "        &lt;/script&gt;\n",
              "    \n",
              "    &lt;style&gt;html, body {width: 100%;height: 100%;margin: 0;padding: 0;}&lt;/style&gt;\n",
              "    &lt;style&gt;#map {position:absolute;top:0;bottom:0;right:0;left:0;}&lt;/style&gt;\n",
              "    &lt;script src=&quot;https://cdn.jsdelivr.net/npm/leaflet@1.6.0/dist/leaflet.js&quot;&gt;&lt;/script&gt;\n",
              "    &lt;script src=&quot;https://code.jquery.com/jquery-1.12.4.min.js&quot;&gt;&lt;/script&gt;\n",
              "    &lt;script src=&quot;https://maxcdn.bootstrapcdn.com/bootstrap/3.2.0/js/bootstrap.min.js&quot;&gt;&lt;/script&gt;\n",
              "    &lt;script src=&quot;https://cdnjs.cloudflare.com/ajax/libs/Leaflet.awesome-markers/2.0.2/leaflet.awesome-markers.js&quot;&gt;&lt;/script&gt;\n",
              "    &lt;link rel=&quot;stylesheet&quot; href=&quot;https://cdn.jsdelivr.net/npm/leaflet@1.6.0/dist/leaflet.css&quot;/&gt;\n",
              "    &lt;link rel=&quot;stylesheet&quot; href=&quot;https://maxcdn.bootstrapcdn.com/bootstrap/3.2.0/css/bootstrap.min.css&quot;/&gt;\n",
              "    &lt;link rel=&quot;stylesheet&quot; href=&quot;https://maxcdn.bootstrapcdn.com/bootstrap/3.2.0/css/bootstrap-theme.min.css&quot;/&gt;\n",
              "    &lt;link rel=&quot;stylesheet&quot; href=&quot;https://maxcdn.bootstrapcdn.com/font-awesome/4.6.3/css/font-awesome.min.css&quot;/&gt;\n",
              "    &lt;link rel=&quot;stylesheet&quot; href=&quot;https://cdnjs.cloudflare.com/ajax/libs/Leaflet.awesome-markers/2.0.2/leaflet.awesome-markers.css&quot;/&gt;\n",
              "    &lt;link rel=&quot;stylesheet&quot; href=&quot;https://cdn.jsdelivr.net/gh/python-visualization/folium/folium/templates/leaflet.awesome.rotate.min.css&quot;/&gt;\n",
              "    \n",
              "            &lt;meta name=&quot;viewport&quot; content=&quot;width=device-width,\n",
              "                initial-scale=1.0, maximum-scale=1.0, user-scalable=no&quot; /&gt;\n",
              "            &lt;style&gt;\n",
              "                #map_5e04aa6a18db89d49e40c3b6e46935e4 {\n",
              "                    position: relative;\n",
              "                    width: 100.0%;\n",
              "                    height: 100.0%;\n",
              "                    left: 0.0%;\n",
              "                    top: 0.0%;\n",
              "                }\n",
              "            &lt;/style&gt;\n",
              "        \n",
              "    &lt;script src=&quot;https://cdn.jsdelivr.net/gh/python-visualization/folium@master/folium/templates/leaflet_heat.min.js&quot;&gt;&lt;/script&gt;\n",
              "&lt;/head&gt;\n",
              "&lt;body&gt;\n",
              "    \n",
              "    \n",
              "            &lt;div class=&quot;folium-map&quot; id=&quot;map_5e04aa6a18db89d49e40c3b6e46935e4&quot; &gt;&lt;/div&gt;\n",
              "        \n",
              "&lt;/body&gt;\n",
              "&lt;script&gt;\n",
              "    \n",
              "    \n",
              "            var map_5e04aa6a18db89d49e40c3b6e46935e4 = L.map(\n",
              "                &quot;map_5e04aa6a18db89d49e40c3b6e46935e4&quot;,\n",
              "                {\n",
              "                    center: [0, 0],\n",
              "                    crs: L.CRS.EPSG3857,\n",
              "                    zoom: 1,\n",
              "                    zoomControl: true,\n",
              "                    preferCanvas: false,\n",
              "                }\n",
              "            );\n",
              "\n",
              "            \n",
              "\n",
              "        \n",
              "    \n",
              "            var tile_layer_e5853b19a0186cbb3370ab49211a11a0 = L.tileLayer(\n",
              "                &quot;https://{s}.tile.openstreetmap.org/{z}/{x}/{y}.png&quot;,\n",
              "                {&quot;attribution&quot;: &quot;Data by \\u0026copy; \\u003ca href=\\&quot;http://openstreetmap.org\\&quot;\\u003eOpenStreetMap\\u003c/a\\u003e, under \\u003ca href=\\&quot;http://www.openstreetmap.org/copyright\\&quot;\\u003eODbL\\u003c/a\\u003e.&quot;, &quot;detectRetina&quot;: false, &quot;maxNativeZoom&quot;: 18, &quot;maxZoom&quot;: 18, &quot;minZoom&quot;: 0, &quot;noWrap&quot;: false, &quot;opacity&quot;: 1, &quot;subdomains&quot;: &quot;abc&quot;, &quot;tms&quot;: false}\n",
              "            ).addTo(map_5e04aa6a18db89d49e40c3b6e46935e4);\n",
              "        \n",
              "    \n",
              "            var heat_map_31d952a3158d11d551c8ef4838cf4b43 = L.heatLayer(\n",
              "                [[33.149464, -80.33635100000002], [30.483989, -87.202127], [33.800046, -117.878158], [42.700456, -73.835452], [35.82788400000001, -78.620059], [33.843814, -92.471529], [34.042293, -117.55044], [46.727244, -113.674228], [42.799247, -112.266186], [28.547374, -81.37755899999998], [36.14815, -80.12777], [34.060749, -80.9846], [34.67831, -118.16106], [34.073532, -81.759552], [37.433852, -118.57219], [45.535744, -93.583315], [36.067396, -86.622629], [25.62374800000001, -80.414429], [35.666813, -78.700448], [32.88427, -117.20211], [33.939387, -117.143313], [38.540993, -121.473938], [27.049738, -82.39877299999998], [38.511256, -122.705554], [35.533837, -82.60269100000002], [33.769043, -117.916227], [26.152793, -80.21941], [34.184683, -117.18123500000002], [36.15374600000001, -86.848236], [38.35971, -78.5491], [34.177246999999994, -80.98004499999998], [38.816586, -121.189078], [34.055567, -118.198074], [38.601268, -112.247732], [44.954115, -93.079077], [40.122953, -111.654667], [31.899246999999995, -106.406706], [30.398665, -91.090425], [33.94633, -84.51319000000002], [34.431426, -118.39685], [40.289197, -74.500957], [28.57756, -81.478639], [42.3238, -122.95047], [36.122787, -86.751085], [34.033273, -118.180178], [44.767996, -93.034297], [42.18184, -120.51367], [32.367557, -86.318453], [48.04893, -122.18373], [34.101562, -81.177428], [42.740546, -73.911262], [38.508989, -77.377259], [48.63612, -114.697877], [27.514788, -81.494224], [38.44202, -111.78848], [36.996014, -122.021954], [42.440629, -90.966252], [37.364657, -79.940057], [25.926078, -80.14913299999998], [29.680348, -95.359171], [28.543193, -81.285882], [33.773204, -117.484927], [41.71631, -73.963024], [33.895268, -118.263175], [43.05879, -76.09929], [33.93853, -117.13418], [32.763090000000005, -96.77286], [38.93662, -77.62424], [26.370825, -80.170787], [37.023517, -122.131345], [40.686305, -73.725902], [38.12055, -122.230475], [44.92151, -122.99028], [27.770996000000004, -82.67810300000002], [33.034268, -80.188597], [42.432557, -73.803158], [38.102379, -122.254904], [34.1504, -117.32292], [28.492994, -81.45881899999998], [47.6322, -122.32477], [26.364129, -80.119825], [39.6686, -104.926509], [40.66141, -74.18448000000002], [28.538698, -81.347705], [32.877391, -96.515976], [40.316291, -75.553658], [33.16533, -87.54727], [42.39682, -88.18394], [37.282316, -79.935114], [34.661337, -82.26216600000002], [35.31844, -80.77898], [28.040789, -80.66064399999998], [41.139087, -96.002975], [34.148077, -118.077604], [34.4903, -118.165222], [27.9605, -82.75447199999998], [37.728662, -122.42529], [33.611953, -111.891295], [36.060961, -95.862672], [33.60953, -112.26243], [29.723048, -95.501137], [38.561824, -121.349271], [28.607046, -81.411234], [33.37654000000001, -117.24272], [35.60706, -86.256856], [42.42513, -88.00379000000002], [33.937615, -117.123581], [43.000906, -78.416923], [42.15282, -87.83409], [33.6175, -84.4526], [36.13345, -95.85113], [25.578554, -80.36949399999997], [29.741175, -95.623679], [34.114745, -80.888674], [34.895717, -118.919604], [28.426803000000003, -82.191023], [33.98153, -118.07489], [37.76384, -121.96803], [40.819545, -73.890844], [40.038373, -76.35511899999999], [44.15255300000001, -122.339277], [31.611316, -84.162185], [44.507817, -122.882281], [33.73305, -117.40597], [34.035719, -118.031433], [35.699216, -78.67147800000002], [41.493397, -94.245454], [35.437657, -79.19993199999998], [25.633167, -80.382621], [45.59045, -119.53554], [30.093488, -97.693852], [37.383266, -121.967436], [33.926414, -81.663993], [38.863753, -77.337822], [34.433539, -118.385685], [41.46155, -82.05716], [42.34617, -87.91452], [45.03718, -93.01773], [39.126745, -77.116523], [30.691433, -88.022666], [32.820711, -96.826086], [39.41469, -76.77348], [33.026654, -96.992826], [32.333199, -95.32636], [45.483382, -118.404979], [29.94545, -90.07934], [25.761827, -80.337232], [35.17434, -106.59358], [38.011395, -120.417907], [44.86041, -93.32308], [33.378135, -111.972035], [25.961011, -80.33657600000002], [34.140844, -80.913516], [34.053187, -118.223086], [32.208674, -110.875206], [36.253777, -119.154227], [35.852229, -78.5809], [33.751834, -117.845975], [36.157998, -86.781548], [34.418755, -81.712901], [45.61009, -117.600593], [39.929827, -74.95486700000002], [38.295117, -77.519446], [37.652149, -77.611586], [40.632368, -111.904551], [40.229431, -75.511273], [35.24185, -80.77953000000002], [40.837007, -73.82526], [38.555267, -90.313824], [39.27598, -76.72521], [41.85996, -87.64423000000002], [43.11060300000001, -77.597877], [34.129715999999995, -117.933687], [40.73752, -73.85096], [33.614851, -117.707571], [37.578737, -122.048152], [42.309976, -123.608786], [33.753055, -117.848639], [44.985306, -93.288355], [26.136734, -80.1695], [44.948512, -92.982305], [41.818236, -78.297963], [34.207059, -118.20715], [36.604364, -118.057539], [45.515479, -122.699651], [34.2742, -118.59523], [39.75907, -105.00764], [45.15197, -93.3917], [25.98454, -80.16507], [43.124362, -75.388932], [36.43252, -80.77667], [39.915919, -75.147787], [41.042722, -73.95688100000002], [44.17135800000001, -123.201595], [33.810999, -78.780061], [25.880005, -80.242866], [30.028842, -90.045737], [35.733989, -120.286795], [28.786507, -81.348835], [25.768915, -80.35305100000002], [27.388159, -82.466171], [44.968111, -123.060305], [39.832886, -75.090271], [38.367675, -81.686861], [36.775627, -76.372159], [32.824317, -96.871349], [35.137892, -80.745896], [25.695889, -80.3011], [40.079062, -75.377876], [39.01965, -76.98029], [32.92281, -97.08339], [40.031268, -74.928578], [42.220198, -121.78987], [41.749914, -72.728316], [35.032522, -84.732579], [40.732907, -73.86765799999998], [36.79318, -119.7002], [40.117125, -75.35278199999998], [30.00531, -90.0238], [37.218643, -79.964929], [41.72926, -88.01181], [29.436190000000003, -98.390044], [32.791525, -96.732966], [29.699434000000004, -95.493143], [36.976254, -113.678479], [34.0099, -117.823332], [34.06429, -118.21528899999998], [29.94481, -90.07781], [45.54453, -122.236016], [32.572771, -97.121196], [33.98982, -117.35002], [35.711377, -81.443413], [34.139427000000005, -118.015628], [41.734367, -72.664185], [33.898712, -118.286844], [33.941233000000004, -118.031219], [40.988272, -76.737636], [37.044099, -122.077145], [40.64513400000001, -74.017078], [40.478063, -74.407535], [38.00178, -122.281783], [26.570792, -81.60481899999998], [29.718267, -95.505543], [26.390715000000004, -81.772323], [37.71951, -122.44822], [38.690354, -121.396726], [40.16996, -105.415761], [43.62908400000001, -122.145607], [33.898548, -118.055774], [34.826624, -82.25566500000002], [25.787776, -80.203124], [39.359861, -76.504787], [34.051321, -118.260788], [39.760373, -84.18664], [29.527312, -98.686677], [36.601452, -80.736942], [45.832432, -95.825009], [26.122153, -80.154038], [38.81698400000001, -76.91633900000002], [29.719948, -81.335451], [29.73185800000001, -95.266369], [35.107496000000005, -118.914679], [25.685158, -80.419893], [44.395827, -122.465211], [28.306784000000004, -81.57002], [25.802915, -80.369194], [47.796473, -117.534324], [25.811598, -80.138919], [37.74054, -122.39912], [41.49528400000001, -78.738363], [38.83710900000001, -77.102662], [34.164638000000004, -118.46971], [32.794135, -96.795076], [34.14811, -118.03469], [38.14411, -120.637331], [32.73426, -96.70023], [33.93583, -118.09295], [39.66955, -86.0955], [32.841171, -109.423624], [42.0058, -72.72575], [25.686033, -80.398689], [25.626497, -80.408826], [25.847364, -80.387467], [41.519048, -73.695224], [40.72850800000001, -73.928398], [30.4034, -87.34246], [35.944479, -87.564886], [38.874017, -76.843947], [40.70754, -73.81911], [39.098314, -94.592489], [40.140559, -75.31365600000002], [25.833594, -80.23919599999998], [41.244447, -74.169974], [28.049007, -82.56943299999998], [29.682171000000004, -95.417986], [41.91986, -88.23805], [39.16301, -84.508781], [25.885921, -80.164713], [43.016437, -83.45827], [28.036357, -82.502832], [36.836675, -76.156411], [33.749753000000005, -118.261217], [30.40883, -90.992328], [34.030254, -117.668558], [34.016038, -118.049941], [45.345842, -118.141894], [25.73417, -80.302918], [36.923051, -119.876119], [40.141192, -79.855751], [30.394164, -91.0391], [43.75214, -120.4153], [30.600964, -87.157505], [34.200709, -79.724456], [35.145055, -81.995878], [27.439182, -82.431329], [32.920178, -96.750779], [35.52559, -82.93923000000002], [40.32888, -83.00769], [38.67853, -121.22563999999998], [34.067464, -117.58678700000002], [40.7862, -77.87238], [47.593698, -122.3297], [25.632662, -80.339223], [33.932465, -118.17844], [43.50725900000001, -121.93506200000002], [34.033251, -118.162122], [42.293943, -123.240221], [29.465752, -95.090614], [40.199474, -75.519131], [28.393853000000004, -81.375231], [35.791196, -80.862656], [34.505342, -120.226446], [47.6169, -122.18825], [42.26565, -83.23716999999998], [36.138743, -79.96151], [40.137037, -75.395039], [43.427562, -89.214431], [39.788902, -84.18373000000003], [34.120459999999994, -117.73135], [32.765539000000004, -97.212729], [35.136086, -80.737583], [34.996391, -120.434047], [25.885549, -80.210748], [40.822605, -73.886381], [33.897887, -117.274887], [33.891825, -117.55579], [36.88112, -119.698234], [40.8116, -73.83595], [42.889541, -121.830471], [41.224154, -96.085829], [40.577584, -75.808786], [39.25749, -76.71967], [35.122099, -120.581984], [35.015155, -85.27566], [25.810799, -80.36940600000001], [41.69299, -71.47666], [32.924941, -96.78587], [41.46443, -124.037264], [39.6977, -105.72042], [33.080981, -80.654658], [35.19529199999999, -80.884019], [28.09354, -82.7397], [37.662083, -121.026418], [34.068667, -117.366104], [38.69955, -77.25683000000002], [43.92822, -121.35272], [40.743271, -111.679574], [39.882395, -104.987445], [42.3772, -83.2166], [42.215663, -83.218806], [25.928151, -80.200342], [33.630298, -117.722786], [45.430911, -122.757545], [41.093399, -112.00692], [38.55871, -121.47342], [32.800065999999994, -96.821787], [35.092792, -118.877726], [39.468231, -120.002706], [35.071586, -120.523416], [37.43211, -122.23922], [34.069645, -117.29582], [35.130984000000005, -81.07979399999998], [40.699625, -99.217187], [32.969172, -117.249184], [37.52444600000001, -120.799296], [32.987097, -80.15684499999998], [39.838563, -75.15406899999998], [38.83667, -121.16545], [33.71383, -117.96438], [31.206037, -82.339986], [41.305622, -74.035138], [25.640571, -80.335564], [40.79288, -76.555959], [30.447563, -97.906022], [39.146155, -94.56062], [34.073194, -117.85116], [41.511379, -121.039649], [32.177918, -110.939411], [33.856149, -117.998089], [41.252578, -73.073705], [41.74813, -88.44372], [38.359692, -120.746496], [27.388240000000003, -82.53686], [40.767247, -73.695525], [28.325913, -81.342734], [32.250353999999994, -110.988503], [33.131476, -117.085842], [42.133373, -96.207543], [38.522782, -122.78714], [45.49635, -94.16197], [33.9128, -118.07297], [38.868739, -77.308854], [45.734486, -120.186622], [41.82191, -87.69463], [33.873721, -118.257686], [30.22649, -95.45776], [40.60175, -74.06044], [30.358519, -89.42327399999998], [30.337679, -81.538189], [33.774829, -118.044693], [42.22869, -83.41986], [41.765513, -73.097362], [35.057171999999994, -80.95758599999998], [37.694853, -122.084868], [45.914204, -123.8885], [33.309023, -80.165726], [39.60628, -104.89135], [39.016474, -77.119699], [34.067384000000004, -117.567625], [44.685461, -111.215657], [40.057765, -74.165755], [35.381825, -118.971068], [34.706428, -79.690574], [38.25532800000001, -78.024041], [45.07598, -93.32973], [34.055504, -118.198421], [32.699772, -96.683026], [38.99196, -94.50231], [47.65445, -122.13795], [41.05199, -111.96042], [40.78435, -73.94199], [31.64995, -81.39668], [38.404779, -121.385818], [40.63875, -112.04463], [33.98751, -118.13759], [25.929404, -80.374128], [39.01887, -77.10289], [41.97209, -87.9397], [37.624242, -122.400922], [41.99134, -87.75123], [43.886084, -123.022392], [28.330045, -81.529931], [34.243992, -119.193452], [34.120842, -117.879792], [45.63623, -108.90467], [40.667524, -77.60632199999998], [41.276804, -73.115183], [40.132457, -76.214985], [40.64316, -80.46417], [41.769536, -72.666975], [34.403521000000005, -118.574407], [33.32931, -111.893], [33.908263, -81.221056], [34.338665, -118.514782], [29.222387, -82.147071], [41.123512, -73.34120899999998], [25.890001, -80.19250500000003], [34.066588, -117.462517], [40.042212, -76.48224], [33.149689, -117.19758799999998], [34.614711, -81.020146], [28.332943, -81.510375], [35.847927, -106.423755], [35.729562, -81.54585], [34.173048, -118.535219], [44.886663, -93.653172], [39.094234, -121.497431], [33.689635, -117.920249], [39.595132, -104.862788], [48.403786, -114.26265], [30.213729, -97.830476], [39.671598, -75.59875], [33.46228, -112.22659099999998], [41.770522, -124.184458], [38.66376500000001, -121.289498], [33.884895, -117.521505], [37.81156, -119.05202], [33.855967, -117.998089], [32.85456, -83.63481], [34.700539, -92.342848], [30.063303, -89.939757], [26.676291, -80.069695], [42.24016, -87.90572], [29.899091, -82.54717], [34.17352, -118.556975], [33.808684, -117.302786], [37.88427, -122.05352], [36.64452100000001, -119.700068], [37.38041, -122.07289], [40.13429, -74.117299], [28.341068, -81.393836], [40.841771, -111.915203], [25.899184, -80.191929], [33.423139, -111.930382], [27.451290000000004, -82.54671], [34.833988, -78.978566], [40.76697, -73.7157], [33.8035, -84.41], [39.978449, -76.694953], [38.59290900000001, -121.551711], [34.267634, -118.441532], [37.270316, -76.756375], [44.181292, -93.948848], [44.960159, -93.208851], [33.71134, -84.21434], [39.145499, -76.843968], [26.10786, -80.355108], [37.40836, -122.06875], [27.894754, -82.72901800000002], [45.13757, -93.47348], [29.757792, -95.374767], [40.710751, -73.981367], [47.243109, -122.374147], [38.52492, -121.46753], [37.925224, -121.733186], [34.026698, -118.137876], [36.561437, -119.646699], [36.758185, -76.299566], [35.340157, -109.066296], [45.006662, -93.282755], [45.309275, -93.602575], [30.011491, -90.098286], [33.591753000000004, -117.513157], [45.00746, -93.401], [30.457055, -91.014334], [39.83628, -104.92471], [45.4968, -122.8937], [33.728693, -117.382656], [45.007465, -93.400812], [36.323021, -119.644811], [33.898588000000004, -117.559623], [34.994094, -81.991885], [40.90642, -74.16356], [33.178594, -117.352406], [30.35021, -81.66854000000002], [41.544424, -76.350034], [36.380311, -119.809547], [40.838402, -74.01915100000002], [40.84529000000001, -73.93070300000002], [36.046712, -86.657155], [40.6888, -73.80870999999998], [30.461482, -87.31734], [43.001915, -78.415614], [33.850190000000005, -84.2468], [41.74693, -87.62529], [41.44172, -84.55062], [45.13365200000001, -93.490495], [30.460506, -81.649028], [34.1482, -118.07339], [25.94239, -80.342327], [33.88245, -117.58762], [32.128847, -111.028929], [45.54174, -122.86754], [33.1748, -97.09196], [33.640664, -117.85916], [33.386070000000004, -111.84922], [33.32628, -84.63600000000002], [33.876606, -118.114377], [39.852024, -75.37399599999998], [44.3038, -122.02441], [42.495428, -79.23956700000002], [35.842281, -78.682377], [41.427815, -78.557573], [41.2632, -80.87626999999998], [40.508037, -78.38472800000002], [28.125881, -82.375733], [34.066076, -117.328824], [42.154183, -88.122855], [34.013905, -118.159263], [39.879566, -76.521331], [36.844569, -76.17047600000002], [43.007841, -71.47598], [29.81412700000001, -95.358778], [28.801013, -81.348212], [25.941719, -80.182825], [42.816199, -78.79211], [34.00412, -117.40524], [43.090812, -77.615261], [38.77538, -76.95764], [35.783614, -78.68995], [30.458582, -87.299737], [39.598375, -84.234109], [43.088368, -76.348789], [39.728821, -74.292866], [25.811367, -80.192184], [38.819403, -76.927447], [25.889257, -80.166904], [25.562695, -80.372244], [37.601048, -77.500073], [34.664565, -83.03909399999998], [40.70071, -73.99519000000002], [37.14342, -121.984859], [34.023872, -117.752829], [33.917039, -118.09916], [30.252145, -97.73614], [38.819471, -76.919113], [39.082105, -78.216375], [38.79305, -77.154876], [44.55191, -123.26516], [40.43859000000001, -80.00612], [35.390504, -119.074375], [32.784206, -96.768558], [37.244388, -93.236818], [35.37018, -80.83143000000003], [47.77759, -122.31802], [35.31766, -80.94483000000002], [47.46727, -122.2284], [39.971675, -74.905313], [34.56945, -83.09530600000002], [37.452125, -122.126916], [44.932435, -123.136341], [25.88449, -80.210697], [39.95656, -75.599471], [47.234986, -122.425709], [38.10808, -87.553771], [38.896508, -75.837477], [33.00827, -111.757386], [33.61886, -84.43324], [44.09031, -123.17124], [33.960014, -118.280502], [35.75613900000001, -78.74414499999997], [27.91197, -82.49795], [38.751765, -121.265859], [41.85697, -88.16093000000002], [44.89004, -93.281661], [38.084847, -120.47128], [36.66353, -119.72502], [40.63468, -111.896572], [35.205798, -80.637263], [34.002344, -118.411708], [40.053395, -76.38861], [29.693492, -95.41502], [44.239738, -95.756021], [27.421991, -82.546715], [33.940518, -83.475316], [35.18958, -113.427403], [38.998763, -77.305812], [32.771192, -117.071826], [28.374267, -80.70081], [33.901877, -118.291963], [28.401733, -81.404526], [32.881840000000004, -97.07645], [32.812331, -96.79117], [39.04877000000001, -94.3641], [28.60066, -81.476244], [27.444207, -82.530243], [45.772672, -111.19792], [38.484834, -121.242537], [47.64479, -122.29849], [25.751003, -80.20800899999998], [40.69624, -73.987873], [32.477077, -93.790153], [36.298442, -86.722734], [34.886924, -120.347553], [34.244926, -119.195849], [38.916771, -94.702373], [25.782596, -80.22825], [45.440266, -93.582964], [42.949827, -78.763278], [33.662442, -117.874767], [47.15543, -122.43426], [39.17234000000001, -77.24486], [30.513856, -91.048326], [37.651089, -122.453295], [38.8625, -77.38225], [45.140626, -93.496387], [32.23615, -110.94277], [45.784529, -120.04493], [37.41905, -121.9605], [35.787712, -78.634445], [34.057258000000004, -118.002491], [41.161743, -112.066536], [38.872557, -77.22703800000002], [30.189572, -85.786753], [33.66021, -117.78267], [43.14664000000001, -123.378822], [40.995696, -78.463213], [34.13387, -118.35445], [42.39365, -82.99195], [45.497402, -93.582291], [33.87897, -117.55805], [40.58223, -104.81146], [41.7166, -72.649251], [25.884229, -80.384741], [38.55361, -121.40927], [32.70957, -96.814525], [40.433189, -79.962447], [38.21955, -85.82226], [36.65344, -78.46061], [34.13491, -117.5978], [39.9339, -111.126156], [25.892269, -80.24333299999998], [38.31066, -76.66571400000002], [41.5104, -87.31995], [25.868306, -80.238417], [32.744231, -117.15951499999998], [29.721579, -95.26601], [39.941567, -121.056794], [39.81522800000001, -75.124579], [35.13596, -119.472958], [34.027243, -118.457926], [35.412275, -119.043224], [36.705671, -120.060363], [28.562847, -81.274579], [38.72172, -104.73024], [45.743851, -111.185181], [39.917427, -77.641593], [39.99901, -104.71709], [32.826809999999995, -117.1176], [40.81177, -74.10304000000002], [28.989648, -80.945014], [37.638231, -120.906984], [30.342656, -81.537801], [37.956222, -122.508674], [45.068831, -93.264271], [41.58277, -87.73366], [41.8045, -71.07592], [37.757641, -122.43581100000002], [34.082366, -117.54495], [40.62021, -75.49823], [38.038066, -78.839027], [25.666405, -80.323746], [38.67705, -90.44958], [34.293965, -117.45391], [33.37651, -79.294032], [40.066411, -75.673828], [40.698373, -73.814599], [35.245931, -80.790035], [38.673039, -121.327716], [39.18242, -84.26487], [34.02958, -118.21824], [40.126375, -111.64731299999998], [47.80237, -122.31325], [42.971594, -82.672446], [41.6456, -72.16102], [33.46537, -111.78964], [28.466695, -81.33075500000002], [27.289762, -82.559022], [35.2382, -118.824477], [40.65993, -111.95277], [33.999846999999995, -117.372826], [34.155033, -118.310838], [34.267908, -119.126421], [45.606103, -94.426549], [35.698476, -78.578964], [33.490025, -112.112982], [37.70139, -121.89284], [42.05977, -88.04700000000004], [33.67306, -117.88648], [34.159339, -118.46558799999998], [44.216124, -116.986865], [44.404418, -122.750444], [32.788378, -96.791791], [41.56531, -88.18087], [45.27719, -122.7721], [42.47963, -83.43186999999998], [42.418588, -114.574688], [25.763863, -80.303919], [40.515937, -74.30136999999998], [26.027447, -80.165911], [32.879101, -96.688488], [38.507907, -121.434683], [28.633926, -81.451549], [29.865655, -95.48931], [30.37936, -91.06128], [28.50725, -81.636608], [35.426219, -118.818479], [43.035019, -76.641514], [33.790544, -118.281929], [35.905235, -87.15114200000002], [39.352574, -77.39332399999998], [40.317329, -75.330411], [36.868343, -121.375798], [41.72711, -87.62476], [48.11434600000001, -114.60096], [31.321117, -89.383575], [40.62252700000001, -111.903271], [38.524922, -77.367428], [34.717794, -87.790359], [34.74905, -92.40712], [32.839296000000004, -96.776947], [37.78569, -122.1934], [32.711963, -96.683539], [42.076791, -122.602242], [38.56789000000001, -121.50853], [41.33149, -85.088], [30.42899, -84.20255999999998], [40.315843, -74.48890300000002], [33.20388, -84.06010500000002], [35.01385, -97.36607], [45.3463, -118.12604], [34.221359, -118.47331], [25.89281, -80.20962], [41.319911, -73.979955], [44.998703000000006, -93.237718], [28.436016, -81.401075], [29.76548, -95.45602], [41.981173, -73.960658], [39.17799, -84.39771], [33.810186, -118.290254], [39.16518, -84.42945999999998], [42.955799, -85.59006600000002], [37.942389, -78.11301800000003], [39.77974, -104.975833], [41.734034, -122.631776], [44.95216, -93.06963], [40.68727, -73.61778000000002], [40.838833, -73.933178], [35.169418, -90.018364], [37.833222, -122.294673], [42.120703000000006, -80.016573], [34.601836, -117.702427], [25.673906, -80.320054], [39.211481, -76.65095600000002], [33.538325, -81.997061], [38.81754, -90.9596], [34.15866, -117.328156], [43.192236, -124.223687], [35.162882, -80.876029], [37.572673, -77.575696], [36.671665, -119.733658], [44.0142, -121.31963], [33.938178, -118.024926], [39.828926, -77.04399699999998], [30.048798, -89.957224], [34.005556, -117.903781], [32.917717, -96.700364], [42.42867, -87.90394], [32.967565, -80.003008], [39.38815200000001, -77.31052199999998], [32.86822, -96.66777], [34.16492, -118.38281], [33.611578, -112.202646], [34.2745, -118.542791], [41.20541, -111.99438], [36.233611, -121.174444], [32.89213, -117.22738], [25.846683, -80.241692], [45.50969, -122.78187], [38.416128, -121.893254], [32.718793, -117.117705], [33.79551, -84.39255], [45.557425, -122.566376], [25.868076, -80.246352], [32.792414, -96.687029], [42.472232, -83.110617], [37.260335, -80.168062], [43.604842, -116.453635], [26.154788, -81.351946], [33.639788, -111.890496], [41.24294, -73.08093000000002], [25.686621, -80.373871], [33.91215, -84.207782], [33.876452, -118.151304], [25.761692, -80.344163], [40.63172, -74.91521999999998], [28.568790000000003, -81.22386999999998], [43.11452, -123.437197], [40.062467, -76.54124300000002], [34.274956, -118.536291], [28.79937, -81.34934399999999], [28.539855, -81.482024], [37.336331, -77.162368], [40.414974, -76.478452], [34.234181, -118.473182], [33.60728, -84.29536], [36.968753, -76.416285], [41.480226, -78.669779], [27.388185, -82.468051], [34.02391, -118.189251], [30.246195, -92.645414], [33.092485, -80.117356], [43.45374, -88.81578], [38.063562, -122.226532], [37.676486, -122.11696], [44.768544, -93.582038], [44.6309, -123.06233], [37.527047, -121.996745], [34.06025, -81.04935], [34.160073, -118.469604], [34.751673, -86.82163299999998], [25.772407, -80.236372], [25.899671, -80.181294], [40.902303, -74.195963], [38.810905, -77.10109200000002], [33.668943, -112.075899], [33.530611, -86.8012], [33.861733, -117.538187], [25.865297, -80.20832], [25.921792, -80.244411], [32.838434, -117.12063700000002], [35.027102, -80.964416], [34.426539, -117.525287], [25.667133, -80.375578], [38.775024, -77.688152], [33.736149, -117.819685], [41.185659, -73.872414], [35.230108, -112.591379], [32.75993, -97.17262], [43.299357, -122.898811], [37.449096, -119.832268], [32.75991, -97.111533], [37.319204, -122.048398], [34.628842, -86.895303], [36.837687, -76.287132], [33.929171999999994, -118.088548], [25.848913, -80.20931800000002], [41.501852, -87.31990400000002], [33.70003, -84.40397], [38.501097, -123.000652], [33.70901, -112.06574], [34.00935, -81.192021], [39.048768, -94.642384], [38.25135, -85.74877], [32.749888, -97.28612], [43.141935, -76.11198], [35.946439, -78.537492], [42.28, -87.9053], [28.509866, -81.417271], [25.626061, -80.419123], [37.54988, -122.05462], [25.687035, -80.365624], [43.891623, -92.611267], [32.192170000000004, -110.87523], [34.154211, -117.34221200000002], [39.243003, -76.57870799999998], [29.736291, -95.604027], [44.9435, -93.34791], [25.49284, -80.459068], [41.86854, -71.42522], [41.25495, -81.36461], [27.930647, -82.352517], [39.649382, -108.788494], [35.021154, -90.825484], [33.844002, -117.535107], [37.691167, -122.077065], [25.900196, -80.162624], [34.024716999999995, -117.541766], [45.213264, -122.975062], [28.092461, -82.73944399999998], [35.849949, -78.579598], [43.099108, -83.813569], [39.93647, -83.00944], [45.745643, -107.828418], [38.13801, -85.58152], [39.9879, -82.76748], [29.785747, -95.356127], [25.838557, -80.32235], [34.07893, -118.22752], [25.839268, -80.221125], [29.60013, -95.33399], [34.151665, -118.132258], [35.83872, -78.675063], [39.412261, -123.808482], [25.953681, -80.205492], [25.807453, -80.292337], [40.836398, -73.875294], [36.590319, -119.530016], [38.017485, -109.349301], [28.17192600000001, -82.46153000000002], [45.1811, -93.534015], [42.64662, -83.23843000000002], [34.038098, -118.188142], [32.562607, -117.068799], [41.611339, -87.090132], [35.241694, -84.804282], [28.543472, -81.504862], [41.371219, -87.792714], [40.89391, -111.89576], [34.02196, -117.813129], [40.367737, -79.92971899999998], [37.95327, -122.054773], [41.14838, -74.188066], [34.337176, -79.43138499999998], [39.87422, -82.99785], [44.81193, -93.21931], [45.022948, -117.925003], [33.705164, -117.854965], [37.63016, -122.43478], [37.382208, -113.247851], [29.150022, -82.116287], [28.388826, -81.40465999999998], [26.167778, -81.71887], [34.043463, -84.581025], [41.96831, -71.50477], [25.748091, -80.3077], [43.011313, -83.51812], [34.208696999999994, -118.220068], [47.595753, -122.329071], [39.86459, -84.21861], [30.263117, -97.735694], [27.973455, -82.394295], [37.783088, -122.39506000000002], [33.196659999999994, -117.36743], [48.39839, -114.219287], [45.54128, -122.413798], [34.522738000000004, -120.304911], [34.150926, -118.660266], [34.025290000000005, -117.72726000000002], [27.441697, -82.54668000000002], [25.566028, -80.381425], [30.439091, -91.188186], [40.607895, -74.040397], [33.96746, -118.234674], [32.952257, -80.162762], [41.043482, -73.777821], [38.67540200000001, -122.808365], [34.11847, -118.005306], [32.968249, -109.236431], [38.183404, -121.74162], [34.0481, -117.307], [39.09885, -76.79973000000003], [33.332399, -117.497575], [38.998456, -77.294152], [33.986374, -117.364195], [41.50514, -73.67985], [42.966909, -71.4139], [38.069722, -122.226905], [37.05352, -120.96648], [36.86863, -76.195154], [39.291653, -121.667289], [36.630243, -119.68856], [39.90293, -75.11588], [35.089462, -120.537432], [34.040422, -118.054707], [33.879207, -118.285192], [45.06952, -93.28238], [39.548817, -76.666878], [34.282118, -118.778632], [34.780319, -82.275071], [40.60932, -111.96942], [35.256057, -118.91445], [40.24795200000001, -122.260122], [25.802963, -80.31316899999999], [34.006817, -117.964445], [42.67015, -73.74221999999997], [43.587816, -120.006591], [28.19342, -82.635136], [45.66947, -123.17128], [34.896115, -81.994191], [37.456246, -120.803915], [33.620470000000005, -117.822715], [35.034813, -85.305131], [32.236255, -110.87368899999998], [39.52648, -121.575061], [37.77848, -122.40061], [41.255788, -72.99600699999998], [36.86863, -76.195154], [44.965105, -93.287664], [44.543391, -120.359848], [37.839886, -122.26375], [38.910418, -77.000346], [37.944395, -119.184704], [25.620154, -80.34826], [41.371725, -71.996709], [35.863258, -78.698486], [39.496353000000006, -77.959746], [27.445616, -82.505488], [34.91875, -82.044799], [38.250284, -122.152209], [37.728503, -122.185629], [39.813412, -86.290987], [38.610194, -121.359324], [34.047356, -117.992976], [38.75975, -90.42929], [44.087624, -121.306188], [44.77347, -93.21721], [39.873751, -75.576594], [41.9604, -88.12045], [30.42352600000001, -97.669134], [30.422065000000003, -91.101649], [45.129511, -93.366421], [35.659151, -78.94985799999998], [45.847436, -111.32258], [26.002846, -80.167161], [25.66705, -80.36972], [28.452240000000003, -81.052697], [35.1422, -80.9308], [39.128692, -104.863889], [27.319344, -82.575789], [28.674176, -81.904824], [38.85295, -76.98458000000002], [40.088004, -122.217154], [32.946099, -96.365987], [46.949332, -114.13126499999998], [45.549756, -122.678779], [39.786682, -86.134907], [36.50664, -84.0811], [37.739764, -121.380289], [40.868099, -74.004024], [44.75571, -92.83249], [35.19675, -80.79128], [30.335294, -95.478973], [35.20625, -80.79549], [32.489082, -93.756744], [35.180218, -80.889866], [41.730612, -72.660881], [37.528531, -122.272804], [45.19476, -93.55252], [44.966185, -93.256123], [33.831046, -118.287248], [26.618752, -81.714885], [44.398331, -123.283183], [30.335473, -97.707735], [30.696177, -86.751501], [39.09527, -121.550946], [36.300598, -86.71125699999996], [33.582264, -117.228718], [34.053136, -118.002236], [29.638656, -95.245195], [34.110009000000005, -118.333877], [37.302291, -80.076474], [37.586805, -77.44761], [45.08384, -111.209157], [34.012055, -118.159307], [36.62984, -121.67349], [40.906487, -74.163862], [33.032444, -80.10977199999998], [40.56854600000001, -112.295645], [47.15074, -122.23466], [36.060772, -86.91605200000002], [39.125703, -121.575746], [39.405842, -121.45517], [25.861763, -80.185209], [33.98923, -118.07019], [32.286482, -110.979658], [32.621528999999995, -97.167031], [34.006956, -117.964227], [32.698484, -96.823358], [35.91328, -79.73468000000003], [33.991012, -118.065581], [40.118402, -75.347026], [25.700803, -80.383825], [37.143129, -121.98498899999998], [29.971665, -90.04300500000002], [38.655985, -121.487774], [38.141164, -122.22085], [33.9501, -84.134], [40.116158, -75.34366899999998], [43.01923, -85.63637], [32.23293, -110.971767], [38.598332, -121.401428], [37.822695, -122.260875], [34.317847, -118.485838], [37.60642, -77.52195], [33.74053, -117.83381], [38.816142, -120.027933], [38.96693, -94.71362], [38.6385, -90.45534], [45.124315, -93.211859], [39.32437, -77.359811], [34.419769, -119.684554], [39.780792, -104.992666], [28.449924, -81.479136], [37.621437, -122.07731499999998], [30.315638, -81.752026], [47.590577, -122.306681], [29.715668, -81.657708], [30.39562, -81.561803], [46.937203, -122.43506200000002], [36.330006, -84.227041], [37.980066, -122.065569], [40.107294, -123.785138], [45.492379, -122.56584], [33.861985, -118.299568], [27.477025, -82.55483199999998], [39.563296, -74.696951], [26.110452, -80.296599], [40.65254, -74.64593], [25.846085, -80.237639], [37.129688, -121.023589], [37.60237, -77.356163], [41.068922, -76.910187], [39.44235, -76.80839], [41.79063, -72.65605], [44.914345, -93.449614], [44.81588, -92.93397], [45.116306, -93.477926], [29.597782, -82.43910699999998], [28.436227, -81.36918299999998], [28.446784, -80.763161], [40.17952800000001, -75.661422], [43.181267, -77.608017], [26.54333, -81.794816], [42.90600000000001, -83.04428], [34.036261, -118.321182], [44.574623, -123.06171], [40.092016, -75.40852199999998], [33.916687, -117.287339], [25.633167, -80.382621], [42.899624, -78.767199], [34.528985, -120.343621], [40.41454, -79.94595], [42.912649, -85.628101], [37.036253, -121.311421], [38.635426, -78.686672], [37.524587, -77.442739], [33.89493, -117.4999], [29.79565, -95.45082], [33.915786, -117.440396], [33.669608000000004, -112.390619], [33.59427, -117.177933], [33.6324, -84.40643], [34.88669, -82.33053199999998], [40.256186, -120.46631200000002], [45.672933, -111.188408], [32.925059999999995, -96.80223], [39.39809, -76.66486], [25.923052, -80.309213], [47.51111, -122.28428], [29.59632, -95.41464], [28.445677000000003, -81.474144], [34.07184, -118.120605], [38.617176, -76.890035], [33.913618, -118.075693], [41.943444, -87.649363], [29.652801, -95.572638], [40.822965, -73.934336], [33.781015000000004, -117.48966], [33.730162, -84.323254], [27.966619, -82.453457], [29.96837, -95.4199], [26.039753, -80.21409200000002], [42.45928, -71.10224000000002], [29.68541, -95.38042], [33.912066, -118.159842], [42.42756, -82.9265], [37.40274, -77.689756], [25.937143, -80.204819], [29.938892, -90.061275], [36.859113, -76.195702], [40.827695, -73.847705], [45.339709, -121.929267], [35.078078999999995, -120.538884], [38.165076, -122.577606], [38.056345, -121.296075], [36.75837, -76.34973000000002], [32.346621, -95.301695], [40.525592, -74.343677], [34.196566, -119.104467], [27.839334, -82.663728], [37.33928, -80.00220999999998], [25.688265, -80.32344599999998], [43.299896, -76.40565500000002], [32.18682800000001, -110.974513], [36.254409, -120.240719], [27.96065, -82.76052], [25.88388, -80.207513], [36.833461, -76.113438], [39.451156, -76.640625], [35.143684, -80.876486], [33.939665000000005, -117.226478], [33.516897, -117.08493], [37.892371, -122.307304], [35.162004, -80.876035], [33.705444, -84.403511], [30.008792, -90.024953], [40.045654, -80.634231], [36.01810800000001, -76.84077099999998], [33.33835, -111.97235], [29.93917, -95.35038], [46.97071, -123.734883], [30.29393, -81.770886], [37.7374, -122.40227], [34.100974, -118.248685], [33.719775, -117.795048], [39.334133, -76.48989499999998], [28.198281, -82.330259], [25.994477, -80.251082], [40.074669, -75.836268], [44.916974, -124.007509], [28.331019, -82.657957], [33.348464, -112.469855], [33.74174, -84.4204], [33.766669, -84.528363], [32.698959, -117.139248], [33.82255, -117.87628], [42.954349, -85.665261], [38.93306, -94.63318], [34.266085, -118.471904], [37.3866, -121.90556], [32.395105, -80.767788], [35.795689, -78.65289], [30.036936, -89.97616], [38.87116, -77.0447], [40.847633, -73.934977], [33.687658, -117.895917], [38.945334, -76.06357], [34.722558, -92.374045], [47.75764, -122.17036], [48.409634, -93.118947], [28.605548, -81.476263], [33.602540000000005, -112.2898], [33.9627, -118.11827], [28.33094, -81.589167], [28.594266, -81.307056], [38.029591, -122.255118], [34.23495, -118.29476], [34.715810999999995, -82.555801], [36.281041, -121.322758], [25.889473, -80.155509], [40.98520900000001, -80.359535], [40.019494, -75.146335], [26.394223, -80.093625], [40.689121, -73.628987], [25.696404, -80.301117], [37.198171, -77.316441], [29.717240000000004, -95.15112], [30.492296000000003, -87.33367700000002], [40.792228, -74.24900699999998], [38.1116, -121.39513999999998], [37.269102, -80.14540600000002], [41.48448, -72.11598000000002], [33.920577, -118.082588], [33.623002, -79.00330100000002], [39.095036, -122.800698], [33.662313, -84.395202], [44.83468, -93.55241], [41.775477, -72.668238], [32.87999600000001, -96.803944], [29.701876, -95.33507], [40.742689, -74.21446], [44.685921, -93.292927], [34.421593, -119.616491], [27.074421, -82.195572], [33.856314000000005, -117.785522], [40.295265, -78.898847], [37.498037, -122.130021], [35.4557, -97.44579], [32.576724, -80.93315600000003], [36.26109, -86.712603], [40.454116, -79.99520600000002], [37.99436, -122.07021], [30.329307, -98.020499], [45.12447, -93.18867], [40.70201, -73.86716], [38.882517, -77.019318], [28.450188, -81.401903], [36.902443, -121.748374], [42.377561, -83.755978], [44.08213, -123.103325], [37.21302100000001, -121.726573], [35.878615, -78.59753], [39.24666, -76.57621], [33.976433, -117.33598], [34.072378, -118.075592], [40.18297800000001, -75.116113], [25.831073, -80.242384], [37.632665, -120.974734], [45.56342, -122.67874], [33.187494, -117.236669], [39.14118, -76.64426999999998], [33.91325, -84.423793], [35.446075, -93.830829], [34.020027, -118.193339], [33.884409999999995, -117.52261], [34.019263, -117.498117], [34.164658, -118.296404], [33.856072, -118.011601], [32.910523, -96.885021], [28.200521, -80.680983], [26.696637, -80.06995699999997], [38.5412, -90.41925], [37.719, -121.7016], [37.867244, -122.200616], [42.05977, -88.04700000000004], [43.123525, -123.363108], [35.32076, -80.939], [46.34775, -123.524865], [30.163132, -97.788401], [34.315906, -117.478848], [42.654129, -83.757029], [45.42648, -122.75208], [35.064386, -85.31071800000002], [34.426967, -80.36375600000002], [34.4886, -118.28649], [41.538842, -75.524078], [33.07353, -117.07029], [32.807406, -80.768363], [37.899575, -121.220937], [40.683422, -111.98154], [35.788747, -78.58726], [38.452831, -121.395807], [45.13781, -95.13838], [40.48212, -75.46208], [37.406123, -122.012331], [39.190378, -75.796216], [39.534291, -77.606037], [39.984811, -75.809454], [33.816053000000004, -79.040467], [41.67214, -72.82058], [37.941211, -122.059778], [39.24711, -94.4544], [37.981522, -121.762377], [34.82962, -82.44663], [34.118776000000004, -117.907711], [34.03568, -118.03143], [25.92841, -80.20604200000002], [34.15453, -118.39248], [38.87987, -77.24023000000003], [37.403921, -122.022025], [45.035496, -92.90332], [40.35374, -74.47268000000003], [32.528958, -93.771889], [25.686276, -80.38471700000002], [36.753655, -119.687646], [25.855492, -80.233997], [45.34354, -118.113999], [40.077921, -76.762601], [25.94244, -80.14840500000003], [33.920786, -118.200228], [39.066947, -121.633472], [34.06755, -117.83558], [43.005287, -83.713882], [37.824948, -122.310488], [42.482599, -71.11626], [41.628538, -112.095361], [30.288138, -97.576075], [34.030649, -118.151233], [36.049897, -95.886306], [43.175088, -77.732363], [29.382029, -98.700946], [33.32631, -111.89357], [31.672197, -106.305816], [34.126162, -117.254543], [41.82325, -87.72465], [34.05846, -87.566539], [35.086369, -85.067962], [36.20031, -121.142871], [34.142992, -118.185501], [39.252398, -77.534723], [43.29596, -124.21618], [44.491141, -89.51853], [35.26839000000001, -80.88277], [33.9355, -118.293066], [44.771743, -93.378799], [41.093, -111.99448], [32.57295, -96.670106], [39.884995, -75.103601], [34.0674, -117.571407], [34.0234, -117.81167], [40.766583, -73.888238], [35.447098, -119.022971], [28.450521, -81.36371199999998], [43.57382, -123.26898], [45.51921, -122.989838], [28.00601, -82.54566700000002], [28.359428, -81.30977800000002], [40.834771, -73.931116], [33.386491, -117.241987], [45.09539, -93.18808], [30.394094, -81.56098399999998], [42.37738, -83.08856], [45.01017, -93.15817], [44.87395, -93.247173], [29.987285, -90.02676899999999], [35.441312, -119.078684], [40.759264, -73.102552], [34.43441, -118.38278], [34.039457, -118.317698], [35.251283, -80.74730699999998], [36.19539, -86.75263000000002], [44.98768, -93.28861], [33.00385, -96.70051], [29.769431, -95.298665], [40.80462, -74.18415], [28.659340000000004, -81.38843], [45.276235, -122.568622], [36.12466, -121.02535], [27.8211, -82.675887], [27.283312, -82.452109], [33.719633, -84.396426], [42.583913, -72.703834], [41.089151, -112.064617], [33.890605, -118.194155], [42.31484, -83.17005], [28.651791, -80.853951], [37.573063, -77.417232], [42.87941, -85.121548], [42.9427, -85.67734], [41.31959000000001, -72.893182], [39.8423, -121.407486], [41.84265, -71.41096999999998], [25.928608, -80.20930200000002], [45.62143, -122.67339], [31.85773, -106.436273], [33.4983, -117.65843999999998], [34.03027, -117.66279], [40.75895, -73.99948], [40.804001, -73.310163], [33.771126, -117.869447], [38.011318, -122.010804], [33.886138, -98.528178], [33.808354, -81.005533], [38.766201, -78.628156], [42.91266, -85.62971], [41.096194, -73.938642], [43.19269, -71.52529], [42.331001, -83.085139], [37.49228400000001, -120.762101], [30.317109, -81.734049], [42.85272, -85.90058], [34.454207000000004, -81.874935], [45.932443, -93.127669], [40.71694, -73.58051999999998], [41.75353, -87.87142], [42.47673, -88.10396999999998], [44.966089, -93.258176], [37.04298, -120.15933], [33.951181, -117.303348], [39.096919, -94.575043], [37.29509, -121.87253], [37.031832, -76.371213], [34.23135, -118.26743], [28.036562, -82.062054], [33.939203000000006, -118.095398], [37.300557, -77.391503], [29.114065000000004, -82.221643], [38.591224, -121.504707], [33.94088, -117.252295], [27.967003, -82.547914], [41.182445, -112.057963], [42.9727, -85.6876], [25.942456, -80.205276], [37.531381, -122.275572], [27.44027800000001, -82.555351], [29.623355, -95.602899], [39.08914, -76.62509], [42.106246, -77.463909], [44.829565, -93.234612], [34.000642, -118.17498799999998], [33.739799, -117.097275], [41.056742, -73.835461], [40.713365, -73.82391700000002], [41.80154, -72.656], [33.852990000000005, -117.81194], [42.68814, -123.39253], [34.01677100000001, -118.140089], [32.466789, -93.714142], [29.884079, -81.401749], [34.070415999999994, -117.399277], [45.16296, -117.867347], [30.424472, -91.179439], [41.751295, -87.605058], [37.556644, -77.08088199999997], [37.638248, -120.911568], [38.499758, -122.794598], [39.13297, -104.86343], [34.060631, -117.545181], [36.570364, -121.761785], [32.810782, -96.804242], [41.67422, -72.84974], [39.1754, -94.5341], [28.09719, -81.95116999999998], [25.757774, -80.409302], [37.425645, -122.098435], [41.206115, -111.97928600000002], [33.84355, -84.429985], [26.54689, -81.63929], [36.254973, -119.313256], [42.48686, -73.67357], [37.852306, -122.033853], [33.320231, -79.665012], [40.532962, -111.89194], [41.377912, -72.880285], [34.10605, -118.32743], [25.809273, -80.315273], [32.953971, -80.161688], [37.691222, -122.13888], [35.047335, -120.56258400000002], [33.52004, -112.1124], [38.033846, -120.22248], [34.050212, -117.549142], [39.106565, -94.381251], [44.018437, -92.859194], [41.12547100000001, -74.16141999999998], [40.13537, -74.06381999999998], [33.968596999999995, -117.328554], [36.140836, -86.718487], [39.38752, -74.571772], [47.642768, -92.563563], [42.743928, -71.490898], [33.987887, -118.399082], [45.6128, -122.67823], [37.85922, -122.50061], [41.253843, -75.820403], [34.176935, -118.308039], [41.061658, -73.859489], [33.93762, -118.097512], [47.55148, -122.31689], [38.56577, -90.39495], [26.778437, -80.098609], [43.04269, -71.2742], [39.147373, -108.314091], [44.18037800000001, -122.120851], [38.558445, -121.379054], [37.389789, -121.991661], [32.91722, -96.76663], [27.986935, -82.326565], [32.90791, -96.92723], [40.239003, -76.89415799999998], [28.027948, -82.146906], [37.352158, -77.452727], [34.108766, -118.185076], [44.17975, -88.48884], [32.066592, -81.136741], [47.919595, -122.206051], [39.77841, -104.91289], [39.05575200000001, -122.782223], [33.982706, -117.709096], [34.030590999999994, -117.632321], [33.674043, -84.498828], [37.53495, -122.07562], [34.128717, -117.938135], [38.89999, -77.40485], [38.930266, -76.95834599999998], [41.13033, -111.15928], [40.576163, -122.36068], [36.396664, -76.946253], [25.78383, -80.27494200000002], [30.03829600000001, -89.97690300000002], [34.718604, -114.610512], [38.06849, -122.22627], [33.891009000000004, -118.361319], [25.855794, -80.322807], [43.479462, -70.594572], [32.81687, -96.62878], [44.914776, -93.274658], [37.528423, -77.429312], [41.41765, -73.263458], [30.483043, -91.117482], [39.86397, -104.98748], [34.039212, -117.191282], [30.229229, -97.888298], [38.58661, -121.26186], [45.912154, -112.355493], [38.281341, -121.45715], [43.05562000000001, -76.10396999999998], [33.509313, -112.082489], [35.35364000000001, -80.7285], [39.029628, -94.267469], [37.323763, -80.034075], [38.833225, -121.169253], [34.439809999999994, -119.828385], [36.225925, -119.312885], [34.267171000000005, -118.643021], [44.052632, -123.284252], [33.778318, -117.869758], [42.478327, -87.854005], [33.8763, -118.125183], [28.380898, -80.668207], [34.179271, -117.439867], [44.75077, -92.81828], [35.208749, -119.056937], [38.618154, -121.415248], [30.5188, -87.257496], [42.643552, -121.880165], [27.994397, -82.545443], [38.34876, -121.99067], [46.16659, -123.693784], [42.97224, -85.891667], [36.136468, -86.821893], [39.10462, -74.874995], [30.443383, -86.867641], [33.777884, -78.98555999999998], [34.933959, -81.993809], [34.114548, -117.302932], [40.10977800000001, -76.007159], [34.701438, -82.91877], [33.906166, -118.160249], [38.407189, -122.432959], [36.747438, -119.80278], [44.113991, -121.292229], [33.746061, -117.45318], [29.93537700000001, -90.078834], [33.826479, -112.415646], [32.738345, -97.478202], [39.019135, -76.959067], [25.700731, -80.378366], [26.877124, -81.983145], [39.265155, -76.592667], [33.779107, -117.88353899999998], [35.351667, -119.331389], [38.11553, -84.52481999999998], [33.43954, -111.96676], [30.477022, -91.16106], [34.028040000000004, -118.449231], [40.11199000000001, -83.02608000000002], [35.244623, -80.969592], [25.933639000000003, -80.245965], [25.671568, -80.432707], [34.071931, -118.266914], [33.84857, -117.53455], [25.641082, -80.40666800000002], [34.073815, -118.21926299999998], [26.935247, -80.153964], [41.79017, -73.127217], [44.082659, -75.80269799999998], [45.61897800000001, -121.113699], [34.007288, -118.281222], [27.960891, -82.787671], [33.012003, -117.080729], [41.104499, -78.53354499999998], [35.73148, -81.1103], [30.462568, -91.166142], [45.058504, -93.028117], [39.80214, -86.08779399999996], [40.725068, -74.14256], [40.7508, -73.89741], [36.778417, -76.384625], [45.6391, -118.68473], [37.53016, -77.42311], [34.078687, -117.338947], [33.674255, -112.088307], [27.269258, -82.47329], [35.908015, -78.939553], [25.721375, -80.382805], [33.697127, -78.961371], [34.17035300000001, -118.501087], [42.315291, -83.169454], [45.652134, -122.852315], [40.099014, -76.258517], [36.8425, -80.32169], [42.23942, -71.02441], [40.085178000000006, -75.389014], [38.94636, -76.85007], [38.76959, -77.49052900000002], [32.741304, -96.856737], [30.43895, -91.18732], [34.672476, -82.541602], [38.549309, -121.9039], [37.75809, -121.069274], [30.350664, -97.500604], [26.211536, -81.73597], [25.77077, -80.38558], [37.40425, -122.02125], [37.852169, -122.018933], [46.95833, -92.9747], [35.67494, -81.337214], [33.716043, -85.033675], [36.341882, -117.38869], [40.63582, -111.90506], [34.044176, -118.16193], [42.385665, -83.100665], [34.784871, -82.383165], [38.231158, -122.11276], [32.84816, -97.01664], [40.69970900000001, -73.525943], [29.887439, -95.41192], [35.01737, -85.28368], [41.4429, -85.944087], [33.9784, -117.70238], [35.15968, -81.91855], [25.92803, -80.200017], [25.823886, -80.242068], [41.044345, -73.55503], [42.36405, -83.07944], [33.876346000000005, -118.087373], [37.560356, -122.041207], [42.466279, -88.03692], [37.265576, -121.866029], [40.786759, -73.824017], [37.405629, -113.237935], [32.961709, -97.039328], [33.917972, -118.178861], [34.15555, -118.241689], [41.723525, -78.676694], [46.611288, -92.553387], [25.99086, -80.16569], [45.788114, -122.8712], [40.078356, -75.691591], [28.553329, -81.475965], [34.123559, -118.342007], [37.278514, -121.864495], [34.281731, -118.691986], [33.658386, -117.295199], [40.228322, -74.050321], [33.564285, -93.859825], [36.086646, -93.740665], [39.423046, -120.035705], [33.904357, -117.460408], [43.404388, -73.595554], [40.43916, -79.86165], [34.184249, -118.910597], [35.833902, -77.659959], [43.181658, -77.63176800000002], [38.799705, -77.204555], [35.08405, -89.88831], [35.575758, -86.232279], [29.704772, -95.15353], [34.100945, -83.79327099999998], [41.154538, -76.153716], [34.862752, -82.294609], [34.20675, -118.20022], [45.44309000000001, -122.74261], [36.930596, -76.406869], [38.5229, -90.39564], [40.474501, -79.971402], [35.130131, -80.943942], [27.269072, -82.51390500000002], [25.766468, -80.38683499999998], [37.163218, -121.673423], [34.787702, -82.48007700000002], [39.982926, -75.926558], [32.80907, -97.209566], [25.803572, -80.320945], [37.702743, -121.740289], [32.664262, -97.242621], [25.76106, -80.3928], [33.637918, -117.85618999999998], [39.364342, -77.39981999999998], [35.406543, -94.366282], [41.041331, -76.526111], [25.714607, -80.413569], [37.155901, -121.655141], [34.861761, -82.433139], [37.47695, -120.64457], [34.381165, -81.68222], [33.819005, -118.301472], [40.064909, -78.84496899999998], [27.429098, -82.524962], [34.293261, -118.848663], [25.832711, -80.241127], [35.038527, -81.96744699999998], [25.899331, -80.188855], [35.79385, -78.54879], [29.992815000000004, -90.048869], [44.926966, -93.144706], [40.738819, -74.06166999999998], [25.507289, -80.46958599999998], [40.846706, -122.335864], [30.38807000000001, -86.303383], [42.37257, -83.05122], [34.032342, -118.029106], [38.496941, -91.003113], [33.56333, -112.11622], [33.524561, -86.80704200000002], [37.789303, -122.254015], [26.665957, -81.879257], [40.753301, -74.210833], [28.609264000000003, -81.41595600000002], [34.139803, -117.95333], [28.1733, -82.74041], [32.359253, -111.084246], [27.791176, -82.788671], [32.091264, -82.863884], [38.66959, -77.25753], [29.707031, -82.461147], [34.30836, -117.310134], [30.337809000000004, -97.714416], [34.064896999999995, -118.245156], [33.879867, -117.607122], [27.683411, -80.53443], [28.194176, -82.384229], [31.97573, -110.50703], [34.130691, -117.945731], [39.325188, -120.601347], [38.25548, -119.22329], [25.654186, -80.398037], [37.936439, -122.060103], [37.951745, -122.327449], [32.74077, -117.116349], [41.705837, -124.127425], [39.77747, -86.141127], [39.799795, -86.02394100000002], [26.055718, -80.352834], [44.190384, -91.862914], [33.78635, -118.28113], [32.990063, -87.78334699999998], [30.390958, -86.454891], [37.318079, -77.400678], [25.807818, -80.280908], [28.43837000000001, -81.39907], [41.260265, -78.725926], [33.886384, -84.45858199999998], [44.773374, -93.22542], [36.108895, -86.724518], [30.53061, -84.54486999999997], [47.303275, -122.222751], [45.718182, -111.067785], [45.479648, -122.566006], [43.03237, -88.16244], [35.063237, -82.250045], [34.173645, -118.553468], [39.669147, -110.861377], [41.771607, -107.087916], [30.257239, -97.602392], [34.516545, -118.239556], [33.169293, -87.503928], [33.7791, -117.888768], [34.132222, -117.958488], [37.707, -122.161794], [34.149159999999995, -118.37314], [37.7011, -122.4714], [29.702902, -95.571129], [40.71959, -111.85442], [37.086611, -121.167858], [34.154858000000004, -118.310865], [34.023764, -117.770879], [27.806413, -82.687753], [37.976603, -81.29503299999998], [37.340057, -120.58928600000002], [40.94942, -73.74719], [32.865643, -96.77012], [38.71803, -90.29966], [39.617466, -77.785605], [38.76631, -104.777185], [39.97931, -105.21907], [32.80039, -96.79298], [30.33463900000001, -97.713724], [28.28712100000001, -82.68476700000002], [27.847525, -82.68975400000002], [34.249074, -117.29076], [37.76377, -121.96798], [36.090591, -80.263068], [39.717217, -86.12469], [33.875304, -118.284811], [40.661805, -74.642368], [29.999684, -90.119063], [37.729293, -122.138475], [37.550722, -120.909701], [33.54591, -84.27963000000003], [37.34302, -121.927164], [34.136408, -117.509765], [41.174458, -122.296459], [35.848172, -78.580223], [25.883503, -80.214614], [35.122271000000005, -120.587042], [37.583827, -122.405825], [29.744627, -95.315982], [35.9478, -78.99611], [39.98463, -74.21191999999998], [39.02457800000001, -78.403769], [25.889366, -80.157872], [43.079152, -75.316063], [40.908161, -74.172123], [25.702836, -80.32308499999998], [41.769536, -72.666975], [32.767871, -96.884447], [35.001835, -79.199523], [28.546656, -81.523383], [35.325262, -118.914321], [34.296239, -118.354583], [32.828617, -96.824869], [34.155120000000004, -118.27029], [40.705751, -73.461037], [37.479961, -122.199647], [32.28313, -110.94383], [47.436078, -122.623096], [34.469761, -82.66555], [43.663106, -116.619515], [37.783208, -121.221021], [35.11547, -80.92557], [32.766841, -97.063168], [34.470271999999994, -81.880685], [37.898183, -77.356091], [40.727487, -111.494225], [40.038432, -75.35347], [34.150234999999995, -118.089046], [32.03992, -81.144536], [32.664896, -96.72066], [33.893260999999995, -118.28548], [28.673923, -81.208505], [33.975648, -118.384903], [34.065138, -118.00051299999998], [34.081571999999994, -117.722993], [25.778196, -80.330733], [39.86632, -75.345382], [41.80532, -86.35834], [32.708434999999994, -117.097722], [42.94592100000001, -85.66275], [33.992003000000004, -118.066991], [39.833706, -75.209762], [32.74732, -96.749863], [25.942426, -80.30569799999998], [34.046953, -118.090395], [43.695967, -93.431508], [40.81817, -73.28662], [36.81059000000001, -119.890496], [41.86006, -71.48924], [26.557334, -80.069743], [26.03921, -80.16368], [35.563969, -121.082718], [38.657407, -121.382913], [28.75512800000001, -81.35799200000002], [34.420231, -117.385576], [32.72906500000001, -117.106162], [35.7436, -78.82135699999998], [25.55874, -80.36116], [25.628105, -80.341342], [33.54159, -81.987383], [47.61946, -122.1891], [38.43471, -122.717091], [33.790575, -118.099209], [34.03029, -118.43085], [32.928111, -96.803616], [38.631523, -77.291747], [37.9037, -122.3126], [32.367919, -86.133966], [40.002779, -75.194453], [25.94029, -80.19124000000002], [25.934767, -80.20084200000002], [38.786837, -119.919804], [41.62425, -88.12380999999998], [34.030956, -118.030983], [47.066788, -122.738494], [38.77343, -121.24282], [43.859235, -121.410616], [26.707390000000004, -80.13707], [39.72142, -75.53872], [35.23945, -80.85252], [43.593953000000006, -116.365588], [37.740903, -122.196474], [40.907732, -74.099897], [25.828039, -80.20625799999998], [34.004579, -117.930309], [45.469789, -122.679073], [25.733269, -80.331645], [27.447403, -82.53520300000002], [45.260159, -122.942419], [37.797228, -79.393633], [38.449376, -85.76481899999997], [25.808096, -80.27306], [35.81013400000001, -78.554466], [35.040652, -85.291623], [38.800351, -77.534836], [30.333106, -81.667771], [39.354733, -77.577584], [40.998124, -78.268934], [44.85328, -68.72501], [47.50507, -94.94754], [37.82617, -122.27674], [35.408606, -119.03113700000002], [33.765803000000005, -117.954293], [44.966601, -93.273507], [37.60342, -122.06418], [39.102262, -94.593969], [26.433782, -80.089763], [40.868273, -124.105925], [44.98723, -93.288], [36.706674, -119.834022], [40.012022, -111.7623], [32.808135, -117.153212], [27.826158000000003, -82.699854], [34.156271999999994, -118.264356], [33.510591999999995, -86.68762], [45.482737, -123.715695], [41.526192, -72.799124], [36.836941, -119.808212], [30.513828000000004, -87.263664], [30.428258000000003, -97.670694], [25.808751, -80.321481], [40.048524, -80.690621], [36.750383, -119.775989], [40.355261, -80.050259], [35.912343, -84.12226], [36.968089, -87.877839], [38.061521, -77.518811], [34.164706, -118.623081], [34.570617, -80.6119], [45.622809, -121.109559], [44.910866, -93.401146], [41.72711, -87.62476], [39.74769000000001, -86.14095], [25.687326, -80.400991], [37.386619, -121.905526], [41.446191, -72.78879], [39.23323900000001, -76.620637], [30.32408, -81.527598], [37.34723, -121.85912], [46.118136, -112.799932], [32.87535, -96.7701], [33.94368, -117.076692], [29.726353000000003, -95.460194], [40.64759, -111.90231], [27.771118, -82.651765], [33.774269, -117.904861], [42.42167, -82.93084], [41.99263, -88.00313], [32.88576, -80.01595999999998], [28.193338, -82.465508], [26.20755, -80.13985], [42.84107, -73.37562], [32.92459, -96.78684], [44.967716, -93.342043], [27.868463, -82.622325], [35.893451, -84.75184200000002], [35.32494099999999, -119.0031], [38.085147, -122.207225], [32.8128, -96.86429], [37.28795, -77.38936], [43.595434, -83.953818], [28.472878, -81.417594], [39.988893, -76.663016], [30.053965, -89.967739], [39.58747, -76.67551], [33.796429, -84.407861], [27.964612, -82.417082], [45.60675, -118.64996200000002], [25.732169, -80.380549], [25.846146, -80.240804], [34.026149, -117.723022], [25.94061, -80.19046], [45.100117, -93.454889], [32.851132, -96.76805], [34.865061, -120.417593], [36.044868, -86.663459], [33.94618, -117.29734], [32.502572, -93.748578], [30.249921, -81.546396], [39.442902, -103.926898], [40.856067, -76.811554], [25.747567, -80.33572099999998], [34.135519, -117.982681], [41.05142, -83.67209], [38.2895, -76.60392], [32.76795300000001, -96.803459], [33.988532, -117.909416], [34.129748, -80.871934], [25.851677, -80.20778], [40.76652, -73.68774], [34.087106, -118.330975], [28.556028, -81.405713], [39.422024, -120.035065], [41.76634, -81.18099000000002], [35.086296000000004, -80.932828], [39.010123, -77.11476400000002], [44.47711, -93.29212], [40.72875, -74.104093], [34.134172, -117.676698], [38.55422100000001, -121.183173], [33.741899, -117.837713], [40.500916, -111.890999], [28.384392, -82.36278], [41.65329000000001, -88.13011], [34.030722999999995, -117.588104], [25.574169, -80.372345], [45.20894000000001, -122.77836], [40.84175, -73.88825], [29.347729, -82.219385], [34.237722, -81.457217], [38.96268, -94.77619], [37.62696, -122.40183], [36.145673, -119.053848], [28.64997, -81.80324], [33.847343, -118.290424], [44.941583, -92.482555], [25.889347, -80.186409], [38.615917, -121.539405], [34.06557, -117.99727], [32.787356, -96.80346], [26.45375, -80.14715], [29.745689, -95.441624], [41.048798, -111.607385], [34.293982, -117.453494], [39.505599, -86.069594], [44.06557, -116.99539], [29.929484, -90.10248], [34.145454, -80.747033], [29.687772, -95.587458], [30.319986, -97.447811], [40.247308, -75.59496], [44.878351, -120.047132], [26.710463, -81.80791500000002], [45.51744, -122.56562], [33.880913, -98.548346], [40.551041, -112.298158], [28.474823, -81.309989], [34.076832, -117.544988], [35.867057, -78.54583000000002], [41.560537, -120.268146], [45.51564000000001, -122.69931], [36.446389, -121.359444], [37.17803, -76.55326], [38.563006, -121.33606], [43.558118, -123.282873], [32.755398, -117.125965], [37.554745, -77.485107], [26.686348, -80.068359], [33.87654000000001, -118.10733], [33.722223, -84.94619200000002], [26.11809, -80.32985], [39.72558, -105.022643], [40.804208, -73.913389], [38.849763, -77.415459], [29.736342, -95.599913], [39.115303, -77.0751], [26.08275, -80.1685], [35.382951, -119.044581], [37.70117, -121.85469], [41.591808, -74.087552], [28.085231, -81.970233], [33.876672, -118.10832], [34.067240000000005, -117.532866], [40.92167, -73.86286], [39.711745, -75.590475], [38.88300200000001, -77.03134], [25.656381, -80.41443199999998], [34.275273, -117.451454], [40.838338, -73.873196], [34.483838, -83.028565], [38.297048, -77.308193], [35.148827000000004, -80.802063], [43.10548, -89.34046], [37.868264, -122.510451], [43.95212, -94.793161], [38.977271, -94.54614], [28.452192, -81.400388], [38.62530200000001, -77.294104], [25.943633, -80.205311], [30.177597, -85.782379], [42.11592, -70.83809000000002], [37.91849000000001, -112.77119], [43.914874, -91.586283], [35.873969, -78.622685], [38.902652, -77.435597], [35.354185, -118.949719], [34.055040000000005, -118.21193], [33.99684, -117.93105], [47.580061, -122.160521], [35.734394, -119.740945], [36.706578, -119.853426], [29.799067, -95.450746], [40.664523, -74.183068], [34.216766, -84.688684], [47.492353, -116.973797], [46.757436, -92.131015], [26.093911, -80.227373], [34.040601, -118.161862], [33.929475, -118.246243], [42.899752, -70.87849], [33.938067, -118.098356], [31.778804, -106.312268], [45.53013, -122.643313], [39.6611, -105.23513], [27.89387, -82.335993], [40.17603, -75.12311], [35.207307, -80.71141899999998], [34.077319, -118.469945], [35.324864, -119.293851], [39.65333, -105.00104], [25.966402, -80.15016899999998], [28.707047, -81.326402], [37.683636, -77.45217], [38.934592, -94.705098], [33.989208000000005, -118.062964], [39.909744, -75.362003], [38.221446, -85.46905100000002], [35.22313, -80.72497], [42.262112, -73.877088], [27.388188, -82.460909], [34.017801, -118.281043], [38.196477, -81.370048], [38.93492, -94.42667], [34.12104, -117.88325], [26.49274, -81.801082], [33.740811, -117.833808], [28.60367, -81.40705], [40.064831, -76.336838], [33.885125, -118.278372], [25.963235, -80.15216], [39.35545, -120.14582], [37.375614, -121.936469], [41.80896, -87.64067], [34.040633, -117.720028], [39.849308, -121.603982], [44.430996, -84.78970100000002], [33.975433, -118.125153], [30.276499, -97.480054], [39.627803, -106.036251], [29.80177, -95.33963], [44.82767, -119.83218], [37.760767, -120.995758], [27.795396000000004, -82.712265], [28.14552, -81.45895300000002], [30.408922, -81.657503], [44.803243, -123.227709], [33.950107, -118.091861], [33.877763, -118.016421], [27.098668, -82.161523], [28.601314, -81.753785], [38.019102, -121.93874], [39.067252, -94.679629], [38.101712, -121.178244], [33.68059, -117.32731], [38.327285, -81.591657], [35.201144, -80.761979], [41.968837, -87.872135], [40.929694, -73.849027], [27.19145, -82.43793000000002], [34.605849, -117.421294], [32.79233, -96.63102], [27.912062, -82.40191999999998], [39.95623300000001, -83.018272], [44.371574, -71.17466], [42.38413, -83.314288], [41.206062, -111.9708], [26.279296, -80.125], [34.087408, -117.670074], [30.42236, -91.13474], [38.582616, -121.383067], [39.77348, -104.83873], [35.35276, -119.033234], [38.878169, -76.992187], [34.099715, -81.178147], [37.44759000000001, -122.12151], [37.701151, -121.82371299999998], [28.5524, -81.44752], [30.31121, -97.713405], [40.697341, -111.93893], [44.8011, -93.23217], [44.41715, -117.3088], [39.465712, -77.518984], [41.853224, -87.91934], [29.714332, -95.605244], [34.073272, -118.276607], [37.20865, -93.315756], [29.617727, -82.385487], [47.63967, -122.1867], [36.444671, -119.492441], [38.471798, -122.889743], [33.833115, -117.835242], [44.540114, -123.367828], [44.864639, -93.429877], [40.83458, -73.87406], [41.206991, -73.10191400000002], [35.640241, -78.842248], [45.527417, -122.606616], [34.186747, -118.401504], [32.390953, -93.754776], [41.703822, -122.645064], [32.779134, -96.782081], [25.598532, -80.35629300000002], [32.878029999999995, -117.169447], [47.39712700000001, -122.229998], [27.956125, -82.478073], [33.45186, -111.7188], [28.522035, -81.21152099999998], [40.726896, -112.024887], [40.232802, -76.950978], [34.778663, -92.202767], [40.497001, -79.659543], [33.859544, -117.922881], [38.408499, -121.384542], [38.405471, -78.903775], [37.650929, -122.406932], [33.569379999999995, -117.700148], [38.694225, -119.779644], [30.239655, -97.737564], [43.294737, -122.480248], [25.628685, -80.349824], [35.616113, -119.659391], [33.008761, -117.079946], [38.015623, -122.087498], [37.765283, -122.404835], [34.237792, -117.50007], [35.098797, -80.932084], [33.680535, -117.170771], [44.81345, -117.81418], [34.011734999999994, -117.433845], [35.079258, -85.258836], [33.666614, -78.91683], [34.095536, -118.244025], [36.75985, -121.754472], [37.73929, -122.19505], [33.855936, -118.00235], [35.368456, -118.976396], [40.11688, -74.88884], [45.51042, -122.56569], [46.08391, -93.64917], [34.324518, -118.501954], [38.236859, -122.099661], [39.125703, -121.575746], [47.33057, -93.77574], [43.21102, -77.895051], [28.409087, -81.404754], [30.244559, -81.600717], [43.796235, -121.442452], [45.92975, -123.928198], [34.821764, -82.256457], [36.129592, -115.26099], [35.000571, -114.597954], [36.157614, -86.759833], [33.978811, -118.0779], [29.021726, -81.227663], [41.170932, -73.192752], [41.87355, -93.57105], [35.020207, -85.201894], [41.367004, -73.624899], [32.132054, -111.125394], [33.926004, -118.02896], [26.03921, -80.16368], [33.092869, -87.672797], [38.63198, -112.60864], [42.93656, -78.76644], [38.897725, -77.176486], [37.44243, -77.47525], [42.297241, -85.000573], [43.02886, -77.96961999999998], [40.710997, -76.841583], [28.452939, -81.400159], [32.911378000000006, -96.8185], [41.844081, -87.631901], [38.5412, -90.41925], [30.442897, -87.214839], [30.410927, -87.230135], [28.690248, -81.218758], [33.698769, -117.94232], [35.064729, -80.95382], [34.444579, -118.609894], [44.416919, -121.700159], [47.516371, -122.19832], [32.746349, -117.109118], [40.55665, -74.46526999999998], [43.27325, -70.96289200000002], [34.22136, -118.47331], [34.030028, -118.257107], [25.89798, -80.186738], [33.98406, -86.5873], [35.84027899999999, -78.579604], [39.551242, -85.77596], [28.180605, -82.730747], [47.20138, -122.46145], [37.515124, -121.939777], [41.179015, -79.345718], [34.770661, -82.386768], [45.13244, -94.31971], [28.597675, -81.22466], [35.516774, -78.294957], [39.39519, -76.7543], [34.041915, -117.550471], [35.23587, -80.839088], [39.756613, -78.188806], [34.031044, -117.327983], [43.14221, -77.597676], [25.950638, -80.245678], [26.188228, -80.152108], [38.064376, -122.535914], [34.349295, -118.540299], [34.989832, -85.213205], [26.09033, -80.21549], [36.572794, -121.815867], [40.198277, -78.484321], [29.92057, -90.015141], [46.362565, -93.873567], [42.650606, -84.129194], [37.659844, -122.103742], [28.401012, -80.78272199999998], [37.530165, -122.330607], [33.838893, -117.94771], [25.833, -80.241318], [46.100472, -123.241424], [25.898848, -80.257912], [36.987437, -121.988519], [41.52466, -73.88596], [44.030767, -92.49071], [32.550022, -93.80719], [41.98044, -87.88053000000002], [33.221024, -87.531922], [34.021887, -117.5512], [33.786402, -117.21984], [30.6547, -91.193304], [29.82224, -95.16714], [38.3819, -78.71780600000002], [35.067596, -80.919404], [35.169006, -90.186434], [37.679446, -77.45053399999998], [35.83965999999999, -78.676591], [29.987339, -95.342512], [33.66517, -86.83175], [45.277372, -93.557864], [41.650918, -72.671996], [33.855764, -98.483011], [42.267055, -83.721243], [39.217709, -121.64173999999998], [37.6747, -122.04156100000002], [38.563202, -121.470841], [37.731567, -122.42341100000002], [32.836707000000004, -97.128185], [44.851995, -93.059853], [40.294306, -79.67036], [38.257666, -122.302819], [42.759879, -73.752895], [30.348951, -97.548186], [34.287440999999994, -81.103193], [34.12916, -117.686023], [40.713347, -74.275163], [25.793708, -80.321077], [33.851923, -118.205069], [43.98191, -117.24618999999998], [37.15156, -121.014192], [33.474429, -112.11315], [37.385333, -122.065741], [25.772401, -80.236682], [29.77686, -95.39025], [35.24803, -120.6803], [40.86533, -73.97508], [38.614548, -121.539341], [34.130899, -83.692041], [38.87343, -77.22048000000002], [25.65935, -80.32702900000002], [25.883752, -80.208973], [47.319434, -109.936655], [35.551038, -78.215907], [33.896214, -118.187654], [36.955957, -121.727582], [45.126875, -123.303027], [29.78512000000001, -95.736821], [42.034687, -93.84774], [32.364283, -95.302852], [30.78140800000001, -85.51733399999998], [30.313097, -97.652815], [41.954759, -73.753677], [37.547906, -77.447968], [25.761938, -80.342456], [43.17547, -76.11928], [33.695113, -117.933425], [33.963656, -118.369816], [34.279727, -118.455521], [43.116747, -75.210468], [28.518694, -81.39705], [40.723574, -73.828125], [33.9261, -118.212295], [42.631083, -123.381839], [36.547175, -119.65573700000002], [37.58485, -122.250018], [25.64376, -80.382899], [42.974377, -83.674379], [28.565446, -81.16496500000002], [34.033714, -118.221828], [34.747556, -92.396982], [40.72993, -74.05527], [39.659043, -75.696667], [25.895833, -80.32458100000002], [43.06304, -89.52320999999998], [40.733821, -77.635698], [42.30444, -72.62629], [34.061440000000005, -118.247611], [32.815121999999995, -96.687923], [35.774928, -78.544484], [37.70933, -122.46731], [41.572622, -72.65203000000002], [33.742090000000005, -84.33085], [44.600025, -123.573887], [34.275408, -118.425169], [33.905299, -118.06583], [32.78459, -117.11418], [32.789733, -96.88019], [30.387635, -97.649918], [36.3286, -119.547182], [38.64178, -85.783642], [34.528945, -120.343583], [40.938781, -73.855537], [39.90483, -86.26959000000002], [34.699567, -86.38360300000002], [38.439198, -121.402498], [28.44667, -81.470866], [33.729845000000005, -117.388487], [48.530334, -122.391353], [39.013518, -77.039487], [25.92719, -80.155999], [38.610644, -121.401418], [25.669501, -80.41622199999998], [37.27323, -121.86259], [38.602942, -121.434878], [39.011992, -123.371678], [38.72351, -77.49643], [44.97028, -93.25276], [30.42598, -86.61971700000002], [33.553043, -112.096129], [33.398534000000005, -111.967602], [44.580057, -93.297735], [28.472602, -81.394669], [30.20099, -97.785372], [34.03029, -117.65586], [42.65839, -123.37711000000002], [35.46314, -97.47402], [25.853307, -80.246116], [33.189242, -117.239345], [33.390065, -111.89156], [41.782196, -71.427773], [40.74798, -73.8494], [40.702325, -73.577713], [47.402948, -92.925769], [39.089761, -76.758274], [29.77325, -95.34041], [37.83655200000001, -120.236578], [40.62449, -74.307307], [28.552398, -81.448211], [39.11782, -78.19333], [35.251021, -80.973489], [38.925151, -110.370394], [28.545435, -81.203758], [33.773216, -118.039248], [35.245488, -80.836417], [32.924298, -96.84151], [44.677211, -93.979763], [47.9522, -122.107232], [33.785303000000006, -117.884171], [38.497073, -122.424377], [37.770949, -122.405755], [40.721363, -74.232118], [40.74309, -73.83948000000002], [37.78313, -121.239312], [28.137032, -81.909278], [40.504458, -111.89098], [30.305641, -97.7214], [45.10837100000001, -95.594455], [40.206705, -75.224636], [30.597162, -86.533466], [43.087107, -88.871015], [32.758902, -96.917535], [35.124702, -83.28070100000002], [44.874762, -93.060818], [44.525903, -93.29666], [37.59585, -122.225801], [41.95203, -73.75314], [30.254448, -81.53641800000003], [39.103935, -94.675787], [33.62322, -84.48810999999998], [38.834575, -77.449548], [40.83734000000001, -73.88006999999998], [37.68405, -77.66945], [39.967097, -74.207652], [42.15571, -122.64615], [39.124765, -121.560187], [39.152505, -121.659673], [35.588892, -120.699848], [34.189228, -118.47414], [40.120954, -75.068748], [36.748403, -76.53335899999998], [30.140753000000004, -85.753664], [42.28635, -77.22359], [33.133574, -117.124589], [25.78374, -80.26748], [26.213218, -81.800575], [28.597979, -81.416779], [39.792426, -84.252625], [38.595681, -121.37267], [34.155739000000004, -118.431219], [38.391245, -121.930098], [36.047655, -84.106075], [34.03387, -118.02719], [40.726137, -73.889972], [34.033286, -118.16913], [35.441871, -119.315065], [42.076724, -71.865338], [46.8505, -92.90892], [32.853131, -96.769525], [42.153667, -87.998284], [34.174285999999995, -117.447578], [33.996362, -117.870341], [38.810353000000006, -121.300048], [40.724737, -75.278645], [47.21268, -122.462317], [38.010123, -121.258133], [35.75592, -78.59948], [40.745189, -74.213447], [33.067521, -80.25708], [39.337294, -77.38010899999998], [25.941563, -80.189584], [44.96599000000001, -93.254181], [42.531579, -77.950979], [42.426935, -123.045684], [42.78353, -87.9538], [25.763164, -80.301721], [25.73317, -80.33577], [29.60093, -95.1995], [28.534916, -81.33584599999998], [33.990607000000004, -118.065011], [28.523215000000004, -81.309322], [41.257778, -78.501521], [35.437803, -118.891954], [37.806862, -121.990775], [37.327692, -78.777429], [41.644996, -73.564013], [40.651527, -74.46034300000002], [37.855099, -122.029598], [25.883637, -80.243199], [46.096906, -123.074984], [38.631631, -121.398035], [30.45306, -84.24856], [37.265356, -76.65145], [40.74814, -73.96808], [27.785636, -82.358836], [47.350196, -122.24465], [25.715712, -80.431242], [39.424878, -80.197738], [42.368126, -83.05888900000002], [34.206801, -117.41338799999998], [28.527909, -81.46045500000002], [33.602982, -114.523619], [30.46698300000001, -87.303811], [34.774654, -82.389709], [29.377404, -81.143867], [37.560606, -122.302738], [48.803717, -122.355053], [37.73473, -122.40638], [42.60707, -83.2098], [37.831749, -122.00388], [40.704307, -74.24648], [39.270219, -76.556409], [39.01358, -77.04504], [39.972134, -104.988023], [39.336505, -78.052605], [33.628669, -117.723933], [40.38571, -106.618913], [41.363337, -74.103432], [30.46012, -91.00836], [37.61628, -122.07335], [38.674372, -121.631237], [32.933245, -96.801678], [40.571813, -123.098769], [25.97053, -80.16575999999998], [33.92341, -84.186784], [38.068285, -78.41493], [33.50184, -112.04359], [42.9716, -73.83102], [40.64219, -111.90316599999998], [29.882548, -97.922102], [44.97515, -93.2871], [35.177181, -79.712859], [26.162527, -80.162144], [34.178474, -118.12149], [33.774508000000004, -118.074948], [38.308864, -122.128862], [45.417205, -123.134275], [29.58511, -95.38653], [44.983057, -85.355177], [38.220066, -78.986199], [33.65095, -78.98254], [33.83935, -118.263543], [40.87141, -111.89721000000002], [39.897632, -104.987501], [39.575289, -110.81604], [38.883446, -77.012804], [45.631407, -118.673699], [47.492254, -121.802254], [29.94386, -90.213145], [33.52685, -112.268804], [33.190234999999994, -117.362052], [42.66177, -84.2042], [36.154806, -86.81411700000002], [45.69593, -121.45374], [34.031612, -117.977109], [35.81959000000001, -119.143317], [44.935895, -94.818953], [32.865611, -96.770271], [28.59757, -81.29799], [34.877142, -82.461046], [34.003178000000005, -118.06543], [25.972186, -80.22959300000002], [40.106943, -75.282462], [39.968401, -76.070107], [26.09254, -80.22421700000002], [36.087949, -86.614701], [26.514441, -80.07106999999998], [40.90653, -122.38384], [33.916425, -118.269578], [45.075781, -93.18519], [28.346936, -81.612842], [44.965691, -93.262053], [41.22248, -95.99119], [39.146868, -76.685913], [39.19577, -104.85322], [35.26037, -80.85519000000002], [29.630373, -95.507444], [38.33412, -77.4976], [44.46515, -71.65318], [28.458109000000004, -81.470321], [46.27180900000001, -93.823062], [32.80318, -116.95636], [32.964488, -117.247134], [37.536905, -122.280697], [45.173422, -123.209779], [39.265791, -76.563817], [35.352603, -119.006364], [37.694574, -122.143775], [29.772265, -95.228576], [33.42812, -86.82054000000002], [33.834296, -117.937234], [45.366212, -122.585091], [37.29793, -117.05238], [40.733598, -74.122394], [34.888016, -82.426473], [35.807599, -78.624779], [37.149002, -121.98707], [34.03184, -118.435859], [38.82882100000001, -76.991539], [44.96476, -93.2831], [38.948448, -78.222659], [40.702774, -73.99256899999997], [41.08922000000001, -111.99303], [27.965647, -82.779397], [36.97822, -122.031694], [33.483722, -79.096192], [41.782972, -73.755595], [45.439044, -122.57898], [40.47478, -111.906389], [34.925464, -81.837774], [40.68702, -111.91104], [27.316886, -82.497362], [35.95648900000001, -83.971698], [28.410243, -81.426334], [26.110737, -80.298551], [30.494991, -84.17617800000002], [25.900328, -80.186939], [38.634633, -121.269624], [30.548909, -87.195272], [43.60597, -122.048074], [25.579182, -80.365297], [34.141858, -118.607188], [40.643974, -124.208303], [37.795747, -122.253838], [25.833423, -80.23007700000002], [37.725087, -77.449826], [30.303068, -97.84388], [30.375132, -86.898012], [34.147911, -118.081926], [29.951043, -90.072805], [40.59983, -112.456427], [29.806761, -95.263014], [37.26434, -77.427669], [33.757151, -117.133594], [33.899177, -118.370279], [41.949393, -71.345545], [28.33629, -81.54215], [36.06533, -79.1431], [32.629154, -117.09598], [39.00684, -76.98033000000002], [45.03809, -123.46205], [39.20563, -119.79182], [37.66351, -122.10607], [40.76586, -74.22112], [39.827177, -76.684472]],\n",
              "                {&quot;blur&quot;: 15, &quot;maxZoom&quot;: 18, &quot;minOpacity&quot;: 0.5, &quot;radius&quot;: 25}\n",
              "            ).addTo(map_5e04aa6a18db89d49e40c3b6e46935e4);\n",
              "        \n",
              "&lt;/script&gt;\n",
              "&lt;/html&gt;\" style=\"position:absolute;width:100%;height:100%;left:0;top:0;border:none !important;\" allowfullscreen webkitallowfullscreen mozallowfullscreen></iframe></div></div>"
            ]
          },
          "metadata": {},
          "execution_count": 49
        }
      ]
    },
    {
      "cell_type": "code",
      "source": [
        "!pip install jovian --upgrade"
      ],
      "metadata": {
        "colab": {
          "base_uri": "https://localhost:8080/",
          "height": 468
        },
        "id": "UDvO81Mf_Mbr",
        "outputId": "08d84167-aacb-4c86-a04e-cf73b903b168"
      },
      "execution_count": null,
      "outputs": [
        {
          "output_type": "stream",
          "name": "stdout",
          "text": [
            "Looking in indexes: https://pypi.org/simple, https://us-python.pkg.dev/colab-wheels/public/simple/\n",
            "Collecting jovian\n",
            "  Downloading jovian-0.2.47-py2.py3-none-any.whl (68 kB)\n",
            "\u001b[2K     \u001b[90m━━━━━━━━━━━━━━━━━━━━━━━━━━━━━━━━━━━━━━━━\u001b[0m \u001b[32m68.6/68.6 KB\u001b[0m \u001b[31m4.2 MB/s\u001b[0m eta \u001b[36m0:00:00\u001b[0m\n",
            "\u001b[?25hRequirement already satisfied: requests in /usr/local/lib/python3.9/dist-packages (from jovian) (2.25.1)\n",
            "Collecting uuid\n",
            "  Downloading uuid-1.30.tar.gz (5.8 kB)\n",
            "  Preparing metadata (setup.py) ... \u001b[?25l\u001b[?25hdone\n",
            "Requirement already satisfied: pyyaml in /usr/local/lib/python3.9/dist-packages (from jovian) (6.0)\n",
            "Requirement already satisfied: click in /usr/local/lib/python3.9/dist-packages (from jovian) (8.1.3)\n",
            "Requirement already satisfied: urllib3<1.27,>=1.21.1 in /usr/local/lib/python3.9/dist-packages (from requests->jovian) (1.26.14)\n",
            "Requirement already satisfied: chardet<5,>=3.0.2 in /usr/local/lib/python3.9/dist-packages (from requests->jovian) (4.0.0)\n",
            "Requirement already satisfied: certifi>=2017.4.17 in /usr/local/lib/python3.9/dist-packages (from requests->jovian) (2022.12.7)\n",
            "Requirement already satisfied: idna<3,>=2.5 in /usr/local/lib/python3.9/dist-packages (from requests->jovian) (2.10)\n",
            "Building wheels for collected packages: uuid\n",
            "  Building wheel for uuid (setup.py) ... \u001b[?25l\u001b[?25hdone\n",
            "  Created wheel for uuid: filename=uuid-1.30-py3-none-any.whl size=6502 sha256=a820850c23325f042b292762ea4f9862e2c2fdcadd1112a3202ec19b89da4d0a\n",
            "  Stored in directory: /root/.cache/pip/wheels/05/d7/b4/4795d29c6decfffbf64c63e58b6c8b8bbfd4751488617dcd7a\n",
            "Successfully built uuid\n",
            "Installing collected packages: uuid, jovian\n",
            "Successfully installed jovian-0.2.47 uuid-1.30\n"
          ]
        },
        {
          "output_type": "display_data",
          "data": {
            "application/vnd.colab-display-data+json": {
              "pip_warning": {
                "packages": [
                  "uuid"
                ]
              }
            }
          },
          "metadata": {}
        }
      ]
    },
    {
      "cell_type": "code",
      "source": [
        "import jovian"
      ],
      "metadata": {
        "id": "GjswjrF-_nrv"
      },
      "execution_count": null,
      "outputs": []
    },
    {
      "cell_type": "code",
      "source": [
        "jovian.commit()"
      ],
      "metadata": {
        "colab": {
          "base_uri": "https://localhost:8080/"
        },
        "id": "n7Ncy9a-AFeN",
        "outputId": "c038e798-d3af-4e99-d0ee-e3db63f25295"
      },
      "execution_count": null,
      "outputs": [
        {
          "output_type": "stream",
          "name": "stdout",
          "text": [
            "[jovian] Detected Colab notebook...\u001b[0m\n",
            "[jovian] jovian.commit() is no longer required on Google Colab. If you ran this notebook from Jovian, \n",
            "then just save this file in Colab using Ctrl+S/Cmd+S and it will be updated on Jovian. \n",
            "Also, you can also delete this cell, it's no longer necessary.\u001b[0m\n"
          ]
        }
      ]
    }
  ],
  "metadata": {
    "kernelspec": {
      "display_name": "Python 3",
      "language": "python",
      "name": "python3"
    },
    "language_info": {
      "codemirror_mode": {
        "name": "ipython",
        "version": 3
      },
      "file_extension": ".py",
      "mimetype": "text/x-python",
      "name": "python",
      "nbconvert_exporter": "python",
      "pygments_lexer": "ipython3",
      "version": "3.7.6"
    },
    "colab": {
      "provenance": []
    }
  },
  "nbformat": 4,
  "nbformat_minor": 0
}